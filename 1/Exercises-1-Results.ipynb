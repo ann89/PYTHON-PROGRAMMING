{
 "cells": [
  {
   "cell_type": "markdown",
   "metadata": {},
   "source": [
    "# Exercises day 1"
   ]
  },
  {
   "cell_type": "markdown",
   "metadata": {},
   "source": [
    "### Exercise 1"
   ]
  },
  {
   "cell_type": "markdown",
   "metadata": {},
   "source": [
    "* Execute the program hello.py in the terminal\n",
    "\n",
    "* Edit hello.py so it says hello to you\n",
    "\n",
    "* Edit hello.py so after greeting it asks about your day."
   ]
  },
  {
   "cell_type": "markdown",
   "metadata": {},
   "source": [
    "### Exercise 2"
   ]
  },
  {
   "cell_type": "markdown",
   "metadata": {},
   "source": [
    "Write a program, that\n",
    "\n",
    "* saves \"Banana\" to a variable, and \"Apple\" to a second variable.\n",
    "\n",
    "* prints the first 3 letter of \"Banana\"\n",
    "\n",
    "* prints \"BananaBananaBanana\"\n",
    "\n",
    "* prints \"BananaAppleBananaAppleBananaApple\""
   ]
  },
  {
   "cell_type": "code",
   "execution_count": 2,
   "metadata": {},
   "outputs": [
    {
     "name": "stdout",
     "output_type": "stream",
     "text": [
      "Ban\n",
      "BananaBananaBananaBanana\n",
      "BananaAppleBananaAppleBananaApple\n"
     ]
    }
   ],
   "source": [
    "var1 = \"Banana\"\n",
    "var2 = \"Apple\"\n",
    "\n",
    "print(var1[0:3])\n",
    "print(var1*4)\n",
    "print((var1 + var2)*3)"
   ]
  },
  {
   "cell_type": "markdown",
   "metadata": {},
   "source": [
    "### Exercise 3"
   ]
  },
  {
   "cell_type": "markdown",
   "metadata": {},
   "source": [
    "Write a program that takes a string as input and replaces all occurrences of \"one\" and replaces it by \"1\". The capitalization of one should not matter, so \"one\", \"One\", \"ONE\", \"oNE\" should give the same result. Use the replace operation only once!"
   ]
  },
  {
   "cell_type": "code",
   "execution_count": 3,
   "metadata": {},
   "outputs": [
    {
     "name": "stdout",
     "output_type": "stream",
     "text": [
      "One by one, ONe will be onE\n",
      "1 by 1, 1 will be 1\n"
     ]
    }
   ],
   "source": [
    "s = \"One by one, ONe will be onE\"\n",
    "print(s)\n",
    "s = s.lower()\n",
    "s = s.replace(\"one\", \"1\")\n",
    "print(s)"
   ]
  },
  {
   "cell_type": "markdown",
   "metadata": {},
   "source": [
    "### Exercise 4"
   ]
  },
  {
   "cell_type": "markdown",
   "metadata": {},
   "source": [
    "* Write a list containing: '42', \"What's the question\", 1337, [\"London\", \"England\"], 3.1415, 3j-4\n",
    "\n",
    "* Remove the entry 3.1415\n",
    "\n",
    "* Add [\"Madrid, \"Spain\"] and \"Berlin\", \"Germany\"\n",
    "\n",
    "* Try to add the first element and the third (the result should be 1379)"
   ]
  },
  {
   "cell_type": "code",
   "execution_count": 10,
   "metadata": {},
   "outputs": [
    {
     "name": "stdout",
     "output_type": "stream",
     "text": [
      "['42', \"What's the question\", 1337, ['London', 'England'], 3.1415, (-4+3j)]\n",
      "['42', \"What's the question\", 1337, ['London', 'England'], (-4+3j)]\n",
      "['42', \"What's the question\", 1337, ['London', 'England'], (-4+3j), ['Madrid', 'Spain'], 'Berlin', 'Germany']\n",
      "1379\n",
      "1379\n"
     ]
    }
   ],
   "source": [
    "#1\n",
    "list = ['42', \"What's the question\", 1337, [\"London\", \"England\"], 3.1415, 3j-4]\n",
    "print(list)\n",
    "#2\n",
    "list.remove(3.1415)\n",
    "print(list)\n",
    "#3\n",
    "list.append([\"Madrid\", \"Spain\"])\n",
    "list.extend([\"Berlin\", \"Germany\"])\n",
    "print(list)\n",
    "#4\n",
    "#as list\n",
    "print(int(list[0])+int(list[2]))\n",
    "#as tuple\n",
    "tup = tuple(list)\n",
    "print(int(tup[0]) + tup[2])\n"
   ]
  },
  {
   "cell_type": "markdown",
   "metadata": {},
   "source": [
    "### Exercise 5"
   ]
  },
  {
   "cell_type": "markdown",
   "metadata": {},
   "source": [
    "Write a program that takes a string with capital letters separated by spaces, and print it sorted from Z to A, separated by commas."
   ]
  },
  {
   "cell_type": "code",
   "execution_count": 18,
   "metadata": {},
   "outputs": [
    {
     "name": "stdout",
     "output_type": "stream",
     "text": [
      "O,M,L,G,G,F,E,D,A\n"
     ]
    }
   ],
   "source": [
    "string = \"A D L F G O E M G\"\n",
    "list = string.split(\" \")\n",
    "list.sort()\n",
    "list.reverse()\n",
    "string = \",\".join(list)\n",
    "print(string)"
   ]
  },
  {
   "cell_type": "markdown",
   "metadata": {},
   "source": [
    "### Exercise 6"
   ]
  },
  {
   "cell_type": "markdown",
   "metadata": {},
   "source": [
    "Guess my number!\n",
    "\n",
    "Write a program that reads in two numbers, print some success message if the numbers are the same, or if the first number is bigger or smaller than the second one.\n",
    "\n",
    "Example: First number is 37.\n",
    "\n",
    "User input: 13 - Message: \"Nope. My number is bigger!\"\n",
    "\n",
    "User input: 42 - Message: \"Nope. My number is smaller!\"\n",
    "\n",
    "User input: 37 - Message: \"YES! This is my number!\""
   ]
  },
  {
   "cell_type": "code",
   "execution_count": 19,
   "metadata": {},
   "outputs": [
    {
     "name": "stdout",
     "output_type": "stream",
     "text": [
      "Give the first number: 10\n",
      "Give the second number: 5\n",
      "My number is bigger.\n"
     ]
    }
   ],
   "source": [
    "number_to_guess=int(input('Give the first number: '))\n",
    "try_number=int(input('Give the second number: '))\n",
    "\n",
    "if number_to_guess < try_number:\n",
    "    print(\"My number is smaller.\")\n",
    "elif number_to_guess > try_number:\n",
    "    print(\"My number is bigger.\")\n",
    "else:\n",
    "    print(\"YES! This is my number\")"
   ]
  },
  {
   "cell_type": "markdown",
   "metadata": {},
   "source": [
    "### For the fast ones"
   ]
  },
  {
   "cell_type": "markdown",
   "metadata": {},
   "source": [
    "Solve some exercises from:\n",
    "\n",
    "https://codingbat.com/python\n",
    "\n",
    "You should be able to solve exercises from Warmup-1, String-1, Logic-1 and List-1."
   ]
  }
 ],
 "metadata": {
  "kernelspec": {
   "display_name": "Python 3",
   "language": "python",
   "name": "python3"
  },
  "language_info": {
   "codemirror_mode": {
    "name": "ipython",
    "version": 3
   },
   "file_extension": ".py",
   "mimetype": "text/x-python",
   "name": "python",
   "nbconvert_exporter": "python",
   "pygments_lexer": "ipython3",
   "version": "3.6.1"
  }
 },
 "nbformat": 4,
 "nbformat_minor": 2
}
