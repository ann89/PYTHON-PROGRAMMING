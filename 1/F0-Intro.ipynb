{
 "cells": [
  {
   "cell_type": "markdown",
   "metadata": {
    "slideshow": {
     "slide_type": "slide"
    }
   },
   "source": [
    "# Introduction to Python Programming\n",
    "----------------------------------------------------------------------\n",
    "##  A programming course suitable for beginners\n",
    "---------------------------------------------------------------------\n"
   ]
  },
  {
   "cell_type": "markdown",
   "metadata": {},
   "source": [
    "### The Language"
   ]
  },
  {
   "cell_type": "markdown",
   "metadata": {},
   "source": [
    "*Python* is a high-level programming language, which is highly versatile, relatively accessible, and extremely well-supported. If you've never programmed before, Python is a great language to start with. A couple of the good reasons for this are: by the standards of programming languages, it is easy for humans to read; and, instead of spending a lot of time worrying about defining rigid types and arranging things in multiple files, it is quick to get started with actually doing things with Python."
   ]
  },
  {
   "cell_type": "markdown",
   "metadata": {},
   "source": [
    "### The Course"
   ]
  },
  {
   "cell_type": "markdown",
   "metadata": {},
   "source": [
    "This course provides an introduction to programming with the Python language. The course material is suitable for **complete beginners**, with no previous programming experience or knowledge required or assumed."
   ]
  },
  {
   "cell_type": "markdown",
   "metadata": {},
   "source": [
    "The materials are split into broad sections, in the form of [Jupyter notebooks](https://jupyter.org), containing exercises for you to try and most of the information that you will need to complete them. \n",
    "The material covered is far from exhaustive. Instead, we try to provide enough information and tasks to get you started and we hope to get you quite quickly to a level where you are then capable to continuing to use Python for your own projects."
   ]
  },
  {
   "cell_type": "markdown",
   "metadata": {},
   "source": [
    "You can always get more information on any topic/object type/function etc. by looking at the Python help pages - type `help(object)` in the Python shell to get help on object - or the 'cheat sheet', or by searching online (a few useful links are provided [below](#Useful-links) ). \n",
    "The online Python documentation, people's previous questions on [StackOverflow](https://stackoverflow.com/), and a lot of the module homepages are very good places to start."
   ]
  },
  {
   "cell_type": "markdown",
   "metadata": {},
   "source": [
    "#### You will learn in the first part of the course:\n",
    "\n",
    "- the basic concepts and building blocks of programming in Python\n",
    "- how to quickly automate repetitive tasks and calculations\n",
    "- the best ways of handling different types of data\n",
    "- about working with the extensive catalogue of subject-specific modules available for Python\n",
    "- how to read data from a file, process, and summarise it\n",
    "- how to visualise data using Python’s powerful plotting libraries\n",
    "\n",
    "#### ... in the second part of the course: \n",
    "- you will learn the basic concepts, and the different ways of handling biological sequences and molecular structures using [Biopython](https://biopython.org).\n",
    "Biopython is is an open-source collection of non-commercial Python tools for **computational biology** and **bioinformatics**."
   ]
  },
  {
   "cell_type": "markdown",
   "metadata": {},
   "source": [
    "-----------------------------------------------------------------------------------------------------------------\n",
    "We recommend using the [Anaconda distribution](https://www.anaconda.com) of Python. \n",
    "It's free and comes with a large number of additional modules included ready for importing into your scripts, **IPython shell** and **notebook interfaces**, a powerful Python text editor (**Spyder**), and a good package manager, **conda**, for updating and installing packages."
   ]
  },
  {
   "cell_type": "markdown",
   "metadata": {},
   "source": [
    "[Below](#Anaconda-Installation), we provide you with the instraction on how to install Anaconda on the CIP-Pool computer. "
   ]
  },
  {
   "cell_type": "markdown",
   "metadata": {},
   "source": [
    "## Anaconda Installation\n",
    "-------------------------------------------------------------------------------------------------\n",
    "* Available for Windows, Linux, Mac OS X...\n",
    "* Very useful package manager available: **Anaconda**\n",
    "* Python 3.6: https://www.anaconda.com/download/#linux  \n",
    "* IDE with GUI: Idle, Spyder, ...\n",
    "* Jupyter Notebook\n",
    "\n",
    "-------------------------------------------------------------------------------------------------\n",
    "1. Download the anaconda installer for Python3.7 (https://www.anaconda.com/distribution/)\n",
    "\n",
    "2. Open a bash terminal <img src=\"terminal-image.png\" width=\"40\" height=\"20\"/>\n",
    "\n",
    "3. change terminal to bash by typing: `> bash`\n",
    "\n",
    "4. copy the anaconda installer into your  `/data` folder, by typing in the bash terminal window: \n",
    "    `> cp anaconda.sh /data`  (#)\n",
    "    \n",
    "5. change directory to be in your `/data` folder: `cd /data`\n",
    "\n",
    "6. start the installation: `./anaconda.sh`\n",
    "    - when asked for the installation directopry, type: `/data/anaconda3` \n",
    "    - type **yes** when asked to add the installation path to your `.bashrc` file\n",
    "    \n",
    "7. open a new bash terminal\n",
    "8. type `jupyter-notebook` to start a notebook\n",
    "    \n",
    "(#) you need to provide the correct name of the installer"
   ]
  },
  {
   "cell_type": "markdown",
   "metadata": {
    "slideshow": {
     "slide_type": "slide"
    }
   },
   "source": [
    "----------------------------------------------------------------------------------------------------------------------\n",
    " * **Questions?** \n",
    "   - E-mail: \n",
    "           - rainer.boeckmann@fau.de\n",
    "           - anna.bochicchio@fau.de\n",
    "           - matthias.poehnl@fau.de\n",
    "---------------------------------------------------------------------------------------------------------------------"
   ]
  },
  {
   "cell_type": "markdown",
   "metadata": {
    "slideshow": {
     "slide_type": "slide"
    }
   },
   "source": [
    "--------------------------------------------------------------------------------------------------------------------\n",
    "## Useful links\n",
    "* http://www.python.org\n",
    "* http://www.tutorialspoint.com/python\n",
    "* http://anh.cs.luc.edu/python/hands-on/3.1/handsonHtml/index.html\n",
    "* http://en.wikibooks.org/wiki/Python_Programming\n",
    "* http://en.wikibooks.org/wiki/Non-Programmer’s_Tutorial_for_Python_3"
   ]
  }
 ],
 "metadata": {
  "anaconda-cloud": {},
  "kernelspec": {
   "display_name": "Python 3",
   "language": "python",
   "name": "python3"
  },
  "language_info": {
   "codemirror_mode": {
    "name": "ipython",
    "version": 3
   },
   "file_extension": ".py",
   "mimetype": "text/x-python",
   "name": "python",
   "nbconvert_exporter": "python",
   "pygments_lexer": "ipython3",
   "version": "3.7.3"
  }
 },
 "nbformat": 4,
 "nbformat_minor": 1
}
