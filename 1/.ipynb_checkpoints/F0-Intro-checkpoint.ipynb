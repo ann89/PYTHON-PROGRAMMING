{
 "cells": [
  {
   "cell_type": "markdown",
   "metadata": {
    "slideshow": {
     "slide_type": "slide"
    }
   },
   "source": [
    "# Hands-On Python Course\n"
   ]
  },
  {
   "cell_type": "markdown",
   "metadata": {},
   "source": [
    "Based on the lecture of Franziska Kranz."
   ]
  },
  {
   "cell_type": "markdown",
   "metadata": {
    "slideshow": {
     "slide_type": "slide"
    }
   },
   "source": [
    "## Overview\n",
    "\n",
    "* Basics\n",
    "    * Syntax\n",
    "    * Numbers - Math - Variables\n",
    "* Types\n",
    "* Control Flow\n",
    "    * Branching\n",
    "    * Comparison"
   ]
  },
  {
   "cell_type": "markdown",
   "metadata": {},
   "source": [
    "* Control Flow - Loops\n",
    "* Functions\n",
    "    * Writing and Using\n",
    "    * Advanced\n",
    "    * Standard Library\n",
    "* Execution of external programs\n",
    "* Excepts and Error Handling"
   ]
  },
  {
   "cell_type": "markdown",
   "metadata": {},
   "source": [
    "* External Modules\n",
    "    * NumPy\n",
    "    * Matplotlib\n",
    "    * Biopython"
   ]
  },
  {
   "cell_type": "markdown",
   "metadata": {
    "slideshow": {
     "slide_type": "slide"
    }
   },
   "source": [
    "\n",
    " * Questions? \n",
    "   E-mail: - rainer.boeckmann@fau.de \n",
    "           - stefan.gahbauer@fau.de\n",
    "           - anna.bochicchio@fau.de\n",
    "           - matthias.poehnl@fau.de"
   ]
  },
  {
   "cell_type": "markdown",
   "metadata": {
    "slideshow": {
     "slide_type": "slide"
    }
   },
   "source": [
    "## Python is...\n",
    "* ... interpreted - no need to compile\n",
    "* ... interactive\n",
    "* ... object-oriented\n",
    "* ... easy-to-learn\n",
    "* ... easy-to-read\n",
    "* ... portable\n",
    "* has a big standard library\n",
    "* and so on"
   ]
  },
  {
   "cell_type": "markdown",
   "metadata": {
    "slideshow": {
     "slide_type": "slide"
    }
   },
   "source": [
    "## Useful links\n",
    "* http://www.python.org\n",
    "* http://www.tutorialspoint.com/python\n",
    "* http://anh.cs.luc.edu/python/hands-on/3.1/handsonHtml/index.html\n",
    "* http://en.wikibooks.org/wiki/Python_Programming\n",
    "* http://en.wikibooks.org/wiki/Non-Programmer’s_Tutorial_for_Python_3"
   ]
  },
  {
   "cell_type": "markdown",
   "metadata": {
    "slideshow": {
     "slide_type": "slide"
    }
   },
   "source": [
    "## Installation\n",
    "\n",
    "* Available for Windows, Linux, Mac OS X...\n",
    "* Very useful package manager available: **Anaconda**\n",
    "* Python 3.6: https://www.anaconda.com/download/#linux  \n",
    "* IDE with GUI: Idle, Spyder, ...\n",
    "* Jupyter Notebook"
   ]
  },
  {
   "cell_type": "markdown",
   "metadata": {
    "slideshow": {
     "slide_type": "slide"
    }
   },
   "source": [
    "## Scripting Mode\n",
    "\n",
    "* Write code in your favorite editor: e.g., vim \n",
    "* Save as *anyname.py*\n",
    "* Execute with *python anyname.py*"
   ]
  },
  {
   "cell_type": "markdown",
   "metadata": {
    "slideshow": {
     "slide_type": "slide"
    }
   },
   "source": [
    "## Interactive Mode\n",
    "* Open Terminal -> python\n",
    "* Calculator\n",
    "* ```python\n",
    "print(\"Test\")\n",
    "```\n",
    "* Here:"
   ]
  },
  {
   "cell_type": "code",
   "execution_count": null,
   "metadata": {
    "collapsed": true,
    "slideshow": {
     "slide_type": "fragment"
    }
   },
   "outputs": [],
   "source": [
    "20 + 7"
   ]
  },
  {
   "cell_type": "code",
   "execution_count": null,
   "metadata": {
    "collapsed": true,
    "slideshow": {
     "slide_type": "fragment"
    }
   },
   "outputs": [],
   "source": [
    "print(\"Test\")"
   ]
  },
  {
   "cell_type": "markdown",
   "metadata": {
    "slideshow": {
     "slide_type": "slide"
    }
   },
   "source": [
    "## Syntax\n",
    "Indentation is crucial!"
   ]
  },
  {
   "cell_type": "code",
   "execution_count": null,
   "metadata": {
    "slideshow": {
     "slide_type": "fragment"
    }
   },
   "outputs": [],
   "source": [
    "pet = input(\"Enter cat or dog: \")\n",
    "if(pet == \"cat\"):\n",
    "    print(\"Miau\")\n",
    "    print(\"*purr*\")\n",
    "else:\n",
    "    print(\"Wow\")\n",
    "print(\"*wag tail*\")"
   ]
  },
  {
   "cell_type": "code",
   "execution_count": null,
   "metadata": {
    "collapsed": true
   },
   "outputs": [],
   "source": [
    "pet = input(\"Enter cat or dog: \")\n",
    "if(pet == \"cat\"):\n",
    "    print(\"Miau\")\n",
    "    print(\"*purr*\")\n",
    "else:\n",
    "    print(\"Wow\")\n",
    "    print(\"*wag tail*\")"
   ]
  }
 ],
 "metadata": {
  "anaconda-cloud": {},
  "kernelspec": {
   "display_name": "Python 3",
   "language": "python",
   "name": "python3"
  },
  "language_info": {
   "codemirror_mode": {
    "name": "ipython",
    "version": 3
   },
   "file_extension": ".py",
   "mimetype": "text/x-python",
   "name": "python",
   "nbconvert_exporter": "python",
   "pygments_lexer": "ipython3",
   "version": "3.6.5"
  }
 },
 "nbformat": 4,
 "nbformat_minor": 1
}
