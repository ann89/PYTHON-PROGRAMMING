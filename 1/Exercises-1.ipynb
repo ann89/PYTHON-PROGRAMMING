{
 "cells": [
  {
   "cell_type": "markdown",
   "metadata": {},
   "source": [
    "# Exercises day 1"
   ]
  },
  {
   "cell_type": "markdown",
   "metadata": {},
   "source": [
    "### Exercise 1"
   ]
  },
  {
   "cell_type": "markdown",
   "metadata": {},
   "source": [
    "* Execute the program hello.py\n",
    "\n",
    "* Edit hello.py so it says hello to you\n",
    "\n",
    "* Edit hello.py so after greetings you, it asks about your day."
   ]
  },
  {
   "cell_type": "markdown",
   "metadata": {},
   "source": [
    "### Exercise 2"
   ]
  },
  {
   "cell_type": "markdown",
   "metadata": {},
   "source": [
    "Write a program, that:\n",
    "\n",
    "* saves \"Banana\" to a variable, and \"Apple\" to a second variable.\n",
    "\n",
    "* prints the first 3 letter of \"Banana\"\n",
    "\n",
    "* prints \"BananaBananaBanana\"\n",
    "\n",
    "* prints \"BananaAppleBananaAppleBananaApple\""
   ]
  },
  {
   "cell_type": "code",
   "execution_count": null,
   "metadata": {
    "collapsed": true
   },
   "outputs": [],
   "source": [
    "# Your CODE here!"
   ]
  },
  {
   "cell_type": "markdown",
   "metadata": {},
   "source": [
    "### Exercise 3"
   ]
  },
  {
   "cell_type": "markdown",
   "metadata": {},
   "source": [
    "Write a program that takes a string as input and replaces all occurrences of \"one\" and replaces it by \"1\". The capitalization of one should not matter, so \"one\", \"One\", \"ONE\", \"oNE\" should give the same result. Use the replace operation only once!"
   ]
  },
  {
   "cell_type": "code",
   "execution_count": null,
   "metadata": {
    "collapsed": true
   },
   "outputs": [],
   "source": [
    "# Your CODE here!"
   ]
  },
  {
   "cell_type": "markdown",
   "metadata": {},
   "source": [
    "### Exercise 4"
   ]
  },
  {
   "cell_type": "markdown",
   "metadata": {},
   "source": [
    "* Write a list containing: '42', \"What's the question\", 1337, [\"London\", \"England\"], 3.1415, 3j-4\n",
    "\n",
    "* Remove the entry 3.1415\n",
    "\n",
    "* Add [\"Madrid, \"Spain\"] and \"Berlin\", \"Germany\"\n",
    "\n",
    "* Try to add the first element and the third (the result should be 1379)"
   ]
  },
  {
   "cell_type": "code",
   "execution_count": null,
   "metadata": {
    "collapsed": true
   },
   "outputs": [],
   "source": [
    "# Your CODE here!"
   ]
  },
  {
   "cell_type": "markdown",
   "metadata": {},
   "source": [
    "### Exercise 5"
   ]
  },
  {
   "cell_type": "markdown",
   "metadata": {},
   "source": [
    "Write a program that takes a string with capital letters separated by spaces, and print it sorted from Z to A, separated by commas."
   ]
  },
  {
   "cell_type": "code",
   "execution_count": null,
   "metadata": {
    "collapsed": true
   },
   "outputs": [],
   "source": [
    "# Your CODE here!"
   ]
  },
  {
   "cell_type": "markdown",
   "metadata": {},
   "source": [
    "### Exercise 6"
   ]
  },
  {
   "cell_type": "markdown",
   "metadata": {},
   "source": [
    "Guess my number!\n",
    "\n",
    "Write a program that reads in two numbers, print some success message if the numbers are the same, or if the first number is bigger or smaller than the second one.\n",
    "\n",
    "Example: First number is 37.\n",
    "\n",
    "User input: 13 - Message: \"Nope. My number is bigger!\"\n",
    "\n",
    "User input: 42 - Message: \"Nope. My number is smaller!\"\n",
    "\n",
    "User input: 37 - Message: \"YES! This is my number!\""
   ]
  },
  {
   "cell_type": "code",
   "execution_count": null,
   "metadata": {
    "collapsed": true
   },
   "outputs": [],
   "source": [
    "# Your CODE here!"
   ]
  },
  {
   "cell_type": "markdown",
   "metadata": {},
   "source": [
    "### For the fast ones"
   ]
  },
  {
   "cell_type": "markdown",
   "metadata": {},
   "source": [
    "Solve some exercises from:\n",
    "\n",
    "https://codingbat.com/python\n",
    "\n",
    "You should be able to solve exercises from Warmup-1, String-1, Logic-1 and List-1."
   ]
  }
 ],
 "metadata": {
  "kernelspec": {
   "display_name": "Python 3",
   "language": "python",
   "name": "python3"
  },
  "language_info": {
   "codemirror_mode": {
    "name": "ipython",
    "version": 3
   },
   "file_extension": ".py",
   "mimetype": "text/x-python",
   "name": "python",
   "nbconvert_exporter": "python",
   "pygments_lexer": "ipython3",
   "version": "3.7.3"
  }
 },
 "nbformat": 4,
 "nbformat_minor": 2
}
