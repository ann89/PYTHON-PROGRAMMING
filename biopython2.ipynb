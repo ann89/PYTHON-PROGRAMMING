{
 "cells": [
  {
   "cell_type": "markdown",
   "metadata": {},
   "source": [
    "# Structures with Biopython\n",
    "\n",
    "\n",
    "So far we used `BioPython`for sequences, now we learn how to also use it for 3D structures. \n",
    "\n",
    "Bio.PDB is a Biopython module to easily access structure data.\n",
    "\n",
    "For further information read the Biopython [Tutorial](http://biopython.org/DIST/docs/tutorial/Tutorial.pdf) or the [FAQs](http://biopython.org/DIST/docs/tutorial/biopdb_faq.pdf).\n",
    "\n",
    "As an example we look at a Dopamin transporter Protein [4XP1](https://www.rcsb.org/structure/4XP1).\n"
   ]
  },
  {
   "cell_type": "markdown",
   "metadata": {},
   "source": [
    "\n",
    "## Step1: Dowloading and reading in the structure file\n",
    "\n",
    "Biopython is able to read `PDB` and `mmCIF` files. Both are available on the PDB database (e.g. [4XP1](https://www.rcsb.org/structure/4XP1))\n",
    "\n",
    "Download both manually, move them to your working directory and have a brief look at them via vim.\n",
    "\n",
    "While the file format is well defined (PDB [short description](https://www.cgl.ucsf.edu/chimera/docs/UsersGuide/tutorials/pdbintro.html); [detailed documentation](http://www.wwpdb.org/documentation/file-format)) and [correspondences](http://mmcif.wwpdb.org/docs/pdb_to_pdbx_correspondences.html) to `mmCIF` , actually getting information directly from the files is tedious.\n",
    "\n",
    "The first lines (the header) contain information about the Authors who published the file, the experiment, further information about the Protein and all kinds of additional remarks. Information about atom positions, names and residues are given in lines starting with `ATOM`. \n",
    "\n",
    "Open the PDB file in a texteditor. Do you find the authors and the experiment with which the structure was obtained? How would you calculate the distances between two individual atoms or group of atoms?\n",
    "\n",
    "Since we are too lazy to write that kind of code we use the Bio.PDB module.\n",
    "\n",
    "First we have to import it."
   ]
  },
  {
   "cell_type": "code",
   "execution_count": null,
   "metadata": {},
   "outputs": [],
   "source": [
    "import Bio\n",
    "print(\"Biopython v\" + Bio.__version__)"
   ]
  },
  {
   "cell_type": "code",
   "execution_count": null,
   "metadata": {},
   "outputs": [],
   "source": [
    "from Bio.PDB import *"
   ]
  },
  {
   "cell_type": "markdown",
   "metadata": {},
   "source": [
    "We use the PDBParser class to read in the data, such that it is usable in Python. A Parser simply takes some input data (here some text file) and converts it to some data structure.\n"
   ]
  },
  {
   "cell_type": "code",
   "execution_count": null,
   "metadata": {},
   "outputs": [],
   "source": [
    "parser_pdb = PDBParser() # Creation of the parser object\n",
    "structure_pdb = parser_pdb.get_structure(\"4XP1\",\"4xp1.pdb\") # 1st argument is a user defined name, the second the Path to the file"
   ]
  },
  {
   "cell_type": "markdown",
   "metadata": {},
   "source": [
    "We can also use the MMCIFParser."
   ]
  },
  {
   "cell_type": "code",
   "execution_count": null,
   "metadata": {},
   "outputs": [],
   "source": [
    "parser_cif = MMCIFParser()\n",
    "structure_cif = parser_cif.get_structure(\"4XP1\", \"4xp1.cif\")"
   ]
  },
  {
   "cell_type": "code",
   "execution_count": null,
   "metadata": {},
   "outputs": [],
   "source": []
  },
  {
   "cell_type": "markdown",
   "metadata": {},
   "source": [
    "For writing a structure file we use the PDBIO class."
   ]
  },
  {
   "cell_type": "code",
   "execution_count": null,
   "metadata": {},
   "outputs": [],
   "source": [
    "io = PDBIO() # create io object\n",
    "io.set_structure(structure_pdb) \n",
    "io.save(\"4xp1_new.pdb\")"
   ]
  },
  {
   "cell_type": "markdown",
   "metadata": {},
   "source": [
    "Compare your own structure `4xp1_new.pdb` with the file from the PDB `4xp1.pdb`. Are there any differences?"
   ]
  },
  {
   "cell_type": "markdown",
   "metadata": {},
   "source": [
    "### Detour: Visualization\n",
    "\n",
    "To view the structures in the notebook, we use a widget (for everyday use I recommend Pymol etc.).\n",
    "\n",
    "Run those commands in the terminal.\n",
    "\n",
    "\n",
    "`conda config --add channels conda-forge`\n",
    "\n",
    "`conda install nglview -c bioconda`\n",
    "\n",
    "After the installation is finished, reopen the jupyter notebook but first you need to enable the nglview extension:\n",
    "\n",
    "`jupyter-nbextension enable nglview --py --sys-prefix`\n",
    "\n",
    "`jupyter-notebook biopython2.ipynb`\n",
    "\n",
    "\n"
   ]
  },
  {
   "cell_type": "code",
   "execution_count": null,
   "metadata": {},
   "outputs": [],
   "source": [
    "import nglview as nv\n",
    "view = nv.show_biopython(structure_pdb)\n",
    "view.clear_representations()\n",
    "view.add_ball_and_stick() #view as ball and stick \n",
    "view"
   ]
  },
  {
   "cell_type": "markdown",
   "metadata": {},
   "source": [
    "It might look nicer with the protein in ribbon presentation."
   ]
  },
  {
   "cell_type": "code",
   "execution_count": null,
   "metadata": {},
   "outputs": [],
   "source": [
    "view.clear_representations()\n",
    "#add ribbons\n",
    "view.add_cartoon('protein')\n",
    "#add ball and stick for non-rotien\n",
    "view.add_ball_and_stick('not protein')\n",
    "view"
   ]
  },
  {
   "cell_type": "markdown",
   "metadata": {},
   "source": [
    "Zooming into the structure we realize that there are three different chains and some ligands."
   ]
  },
  {
   "cell_type": "markdown",
   "metadata": {},
   "source": [
    "## Step2: Acess data\n",
    "\n",
    "### Header information\n",
    "\n",
    "We can now easily access the information from the header."
   ]
  },
  {
   "cell_type": "code",
   "execution_count": null,
   "metadata": {},
   "outputs": [],
   "source": [
    "resolution = structure_pdb.header[\"resolution\"]\n",
    "print(\"The resolution is: \",resolution, \"A\")\n",
    "keywords = structure_pdb.header[\"keywords\"]\n",
    "print(\"Keywords: \" , keywords)"
   ]
  },
  {
   "cell_type": "markdown",
   "metadata": {},
   "source": [
    "Other keys are name, head, deposition, release_date, strucure_method, resolution, structure_reference, journal_reference, author and compound.\n",
    "\n",
    "Use the appropriate keys to now easily get the autor names.\n",
    "How was the structure obtained."
   ]
  },
  {
   "cell_type": "code",
   "execution_count": null,
   "metadata": {
    "scrolled": true
   },
   "outputs": [],
   "source": []
  },
  {
   "cell_type": "markdown",
   "metadata": {},
   "source": [
    "### Object hierarchy\n",
    "\n",
    "The hierarchy of structure objects is the following:\n",
    "\n",
    "A structure can consist of several models.\n",
    "\n",
    "A model consists of chains.\n",
    "\n",
    "A chain consists of residues.\n",
    "\n",
    "A residue consists of atoms. "
   ]
  },
  {
   "cell_type": "markdown",
   "metadata": {},
   "source": [
    "\n",
    "\n",
    "![](http://biopython.org/wiki/Smcra.png)\n",
    "\n"
   ]
  },
  {
   "cell_type": "markdown",
   "metadata": {},
   "source": [
    "But what can we do with our structure object?"
   ]
  },
  {
   "cell_type": "code",
   "execution_count": null,
   "metadata": {
    "scrolled": true
   },
   "outputs": [],
   "source": [
    "print(dir(structure_pdb))"
   ]
  },
  {
   "cell_type": "markdown",
   "metadata": {},
   "source": [
    "Apparenlty quite a lot.\n",
    "\n",
    "Let's start by looking how many models we have."
   ]
  },
  {
   "cell_type": "code",
   "execution_count": null,
   "metadata": {
    "scrolled": true
   },
   "outputs": [],
   "source": [
    "for model in structure_pdb:\n",
    "    print(\"Model \",model)"
   ]
  },
  {
   "cell_type": "markdown",
   "metadata": {},
   "source": [
    "We have one model.\n",
    "\n",
    "Next we access this model and check how many chains this model has."
   ]
  },
  {
   "cell_type": "code",
   "execution_count": null,
   "metadata": {},
   "outputs": [],
   "source": [
    "model = structure_pdb[0]\n",
    "for chain in model:\n",
    "    print(\"chain object: \", chain,\" chain id: \", chain.id)"
   ]
  },
  {
   "cell_type": "markdown",
   "metadata": {},
   "source": [
    "There are three chains in the Model, with ids `A`, `L` and `H`.\n",
    "\n",
    "The model is called the parent_entity of the chains `A`, `L` and `H` and those chains are called the child_entities of the model. In the same way the residues are parent_entities of atoms and atoms have no child_entities.\n",
    "\n",
    "The generals syntax to access the child_entity is: \n",
    "        child_entity = parent_entity[child_id].\n",
    "        \n",
    "Print all residues and their names (residue.resname) in chain L."
   ]
  },
  {
   "cell_type": "code",
   "execution_count": null,
   "metadata": {},
   "outputs": [],
   "source": []
  },
  {
   "cell_type": "markdown",
   "metadata": {},
   "source": [
    "We also can directly get the entire list of child_entities."
   ]
  },
  {
   "cell_type": "code",
   "execution_count": null,
   "metadata": {},
   "outputs": [],
   "source": [
    "chain_L = model[\"L\"]\n",
    "L_list = chain_L.get_list()\n",
    "print(L_list)"
   ]
  },
  {
   "cell_type": "markdown",
   "metadata": {},
   "source": [
    "We can also get the parent_entity from a child."
   ]
  },
  {
   "cell_type": "code",
   "execution_count": null,
   "metadata": {},
   "outputs": [],
   "source": [
    "model_from_child = chain_L.get_parent()\n",
    "print(model_from_child)\n",
    "print(model)"
   ]
  },
  {
   "cell_type": "markdown",
   "metadata": {},
   "source": [
    "It is the same model from which we originally obtained the chain.\n",
    "\n",
    "Let's further look at the residues."
   ]
  },
  {
   "cell_type": "code",
   "execution_count": null,
   "metadata": {},
   "outputs": [],
   "source": [
    "for residue in L_list:\n",
    "    print(residue.id)"
   ]
  },
  {
   "cell_type": "markdown",
   "metadata": {},
   "source": [
    "The residue_id has three elements:\n",
    "\n",
    "- The first is the `hetero-field` (hetfield). It is blank for standard amino acids (or nucleid acids), 'W' for water molecules and 'H_' followed by the residue name for hetero residues.\n",
    "\n",
    "- The second is the `sequence identifier` (resseq), which is an integer that describes the position in the chain.\n",
    "\n",
    "- The third is the `insertion code` (icode). This string is mostly empty but can be useful in insertion mutants to keep the numbering scheme. (e.g.  wild type: ..., (' ', 35, ' '), (' ', 36, ' '), ... ; mutant: ..., (' ', 35, 'A'),(' ', 35, 'B'),(' ', 36, ' '), ...)\n",
    "\n",
    "For blank `hetero-field` and `insertion code` the `sequence identifier` can be used to access residues."
   ]
  },
  {
   "cell_type": "code",
   "execution_count": null,
   "metadata": {},
   "outputs": [],
   "source": [
    "residue_33 = chain_L[33]\n",
    "print(residue_33)\n",
    "residue_33 = chain_L[(' ',33,' ')]\n",
    "print(residue_33)"
   ]
  },
  {
   "cell_type": "markdown",
   "metadata": {},
   "source": [
    "What are the following functions doing?"
   ]
  },
  {
   "cell_type": "code",
   "execution_count": null,
   "metadata": {},
   "outputs": [],
   "source": [
    "print(model.has_id(\"A\"))\n",
    "print(model.has_id(\"B\"))\n",
    "print(chain_L.has_id(33))"
   ]
  },
  {
   "cell_type": "code",
   "execution_count": null,
   "metadata": {
    "scrolled": true
   },
   "outputs": [],
   "source": [
    "print(len(model))\n",
    "print(len(residue_33))\n",
    "print(len(chain_L))"
   ]
  },
  {
   "cell_type": "code",
   "execution_count": null,
   "metadata": {},
   "outputs": [],
   "source": [
    "print(chain_L.get_full_id())\n",
    "print(residue_33.get_full_id())\n",
    "print(residue_33[\"N\"].get_full_id())"
   ]
  },
  {
   "cell_type": "markdown",
   "metadata": {},
   "source": [
    "The first entry is the structure id `4XP1` you gave as a name when loading the structure.\n",
    "\n",
    "Print all atoms in residue_33. What are the atom identifiers?"
   ]
  },
  {
   "cell_type": "code",
   "execution_count": null,
   "metadata": {
    "scrolled": true
   },
   "outputs": [],
   "source": [
    "for atom in residue_33:\n",
    "    print(atom, \" \", atom.id)\n",
    "print(residue_33[\"N\"])"
   ]
  },
  {
   "cell_type": "markdown",
   "metadata": {},
   "source": [
    "Knowing all the ids we can also directly access an atom."
   ]
  },
  {
   "cell_type": "code",
   "execution_count": null,
   "metadata": {},
   "outputs": [],
   "source": [
    "atom = structure_pdb[0][\"L\"][33][\"CA\"]\n",
    "print(atom.get_full_id())"
   ]
  },
  {
   "cell_type": "markdown",
   "metadata": {},
   "source": [
    "Some more atom methods are get_name(), get_id(), get_coord(), get_vector(), get_bfactor() and get_occupancy().\n",
    "Try them! What is the difference between get_coord() and get_vector()?"
   ]
  },
  {
   "cell_type": "code",
   "execution_count": null,
   "metadata": {},
   "outputs": [],
   "source": []
  },
  {
   "cell_type": "markdown",
   "metadata": {},
   "source": [
    "## Step3: Using the data\n",
    "\n",
    "We want to find out where the dopamine binds to the protein.\n",
    "\n",
    "First we find the dopamine (`LDP`) residue\n",
    "\n"
   ]
  },
  {
   "cell_type": "code",
   "execution_count": null,
   "metadata": {},
   "outputs": [],
   "source": [
    "for residue in structure_pdb[0].get_residues():\n",
    "    if residue.resname == \"LDP\":\n",
    "        LDP = residue\n",
    "        break\n",
    "print(LDP)"
   ]
  },
  {
   "cell_type": "markdown",
   "metadata": {},
   "source": [
    "Next we want to find all other residues with $\\alpha$-carbon within a certain distance.\n",
    "\n",
    "We can do this via the coordinates."
   ]
  },
  {
   "cell_type": "code",
   "execution_count": null,
   "metadata": {},
   "outputs": [],
   "source": [
    "res_56_CA = structure_pdb[0]['A'][56]['CA']\n",
    "print(res_56_CA.coord)"
   ]
  },
  {
   "cell_type": "markdown",
   "metadata": {},
   "source": [
    "Write a function that returns the distance of two atoms (e.g. res_56_CA and res_58_CA)."
   ]
  },
  {
   "cell_type": "code",
   "execution_count": null,
   "metadata": {},
   "outputs": [],
   "source": [
    "res_58_CA = structure_pdb[0]['A'][58]['CA']"
   ]
  },
  {
   "cell_type": "code",
   "execution_count": null,
   "metadata": {},
   "outputs": [],
   "source": []
  },
  {
   "cell_type": "markdown",
   "metadata": {},
   "source": [
    "For atom objects the minus operator is overloaded to return the distance. Check whether your function gives the same results."
   ]
  },
  {
   "cell_type": "code",
   "execution_count": null,
   "metadata": {},
   "outputs": [],
   "source": [
    "print(res_56_CA-res_58_CA)"
   ]
  },
  {
   "cell_type": "markdown",
   "metadata": {},
   "source": [
    "Now we only have to apply this for all residues.\n",
    "\n",
    "Chose an appropriate cutoff (lengths are given in $\\mathring{A}$)"
   ]
  },
  {
   "cell_type": "code",
   "execution_count": null,
   "metadata": {},
   "outputs": [],
   "source": [
    "cutoff = 10\n",
    "\n",
    "binding_residues_pdb = []\n",
    "\n",
    "for residue in structure_pdb[0].get_residues():\n",
    "    #skip the LDP residue\n",
    "    if residue == LDP:\n",
    "        continue\n",
    "    #skip hetero residues\n",
    "    elif residue.id[0].startswith(\"H\"):\n",
    "        continue\n",
    "    #skip water residues\n",
    "    elif residue.id[0].startswith(\"W\"):\n",
    "        continue\n",
    "    else:\n",
    "        alpha_carbon = residue['CA']\n",
    "        distances = []\n",
    "        #make a list of all distances between the alpha carbon and the atoms in LDP\n",
    "        for atom in LDP:\n",
    "            distances.append(alpha_carbon - atom)\n",
    "        #check whether the smalles distance is smaller than the cutoff\n",
    "        if min(distances) < cutoff:\n",
    "            binding_residues_pdb.append(residue)\n",
    "            \n",
    "print(binding_residues_pdb)"
   ]
  },
  {
   "cell_type": "markdown",
   "metadata": {},
   "source": [
    "Let's view this."
   ]
  },
  {
   "cell_type": "code",
   "execution_count": null,
   "metadata": {
    "scrolled": true
   },
   "outputs": [],
   "source": [
    "#view = nv.demo()\n",
    "view = nv.show_biopython(structure_pdb)\n",
    "\n",
    "# use hex values for now.\n",
    "residues = structure_pdb[0].get_residues()\n",
    "#this is a bit of a hack to set the binding residues to red in the visualization\n",
    "colors = ['0x0000FF' if r not in binding_residues_pdb else '0xFF0000' for r in residues]\n",
    "view._set_color_by_residue(colors, component_index=0, repr_index=0)\n",
    "view"
   ]
  },
  {
   "cell_type": "markdown",
   "metadata": {},
   "source": [
    "### Detour: The direct way"
   ]
  },
  {
   "cell_type": "markdown",
   "metadata": {},
   "source": [
    "For this protein there is also a direct way to access this information as it is already provided in the mmCIF file header.\n",
    "\n",
    "We parse this kind of information into a dictionary."
   ]
  },
  {
   "cell_type": "code",
   "execution_count": null,
   "metadata": {},
   "outputs": [],
   "source": [
    "cif_dict = MMCIF2Dict.MMCIF2Dict('4xp1.cif')\n",
    "print(cif_dict.keys())"
   ]
  },
  {
   "cell_type": "code",
   "execution_count": null,
   "metadata": {},
   "outputs": [],
   "source": []
  },
  {
   "cell_type": "markdown",
   "metadata": {},
   "source": [
    "There is a lot of information, but fortunately there is a [documentation](http://mmcif.wwpdb.org/dictionaries/mmcif_pdbx_v50.dic/Index/) that explains all the keys.\n",
    "\n",
    "Use the key \"_citation.title\" to learn the publication title."
   ]
  },
  {
   "cell_type": "code",
   "execution_count": null,
   "metadata": {},
   "outputs": [],
   "source": [
    "print(cif_dict[\"_citation.title\"])"
   ]
  },
  {
   "cell_type": "markdown",
   "metadata": {},
   "source": [
    "We are interested in the binding sites."
   ]
  },
  {
   "cell_type": "code",
   "execution_count": null,
   "metadata": {},
   "outputs": [],
   "source": [
    "print(cif_dict[\"_struct_site.details\"][6],\"has id\", cif_dict[\"_struct_site.id\"][6])"
   ]
  },
  {
   "cell_type": "markdown",
   "metadata": {},
   "source": [
    "The binding site for the dopamin (LDP) has the id `AC7`\n",
    "\n",
    "Can you find this information directly in the cif file?\n"
   ]
  },
  {
   "cell_type": "markdown",
   "metadata": {},
   "source": [
    "It should look like this.\n",
    "\n",
    "```\n",
    "loop_\n",
    "_struct_site.id\n",
    "_struct_site.pdbx_evidence_code\n",
    "_struct_site.pdbx_auth_asym_id\n",
    "_struct_site.pdbx_auth_comp_id\n",
    "_struct_site.pdbx_auth_seq_id\n",
    "_struct_site.pdbx_auth_ins_code\n",
    "_struct_site.pdbx_num_residues\n",
    "_struct_site.details\n",
    "AC1 Software A NA  701 ? 5 'binding site for residue NA A 701'\n",
    "AC2 Software A NA  702 ? 5 'binding site for residue NA A 702'\n",
    "AC3 Software A CL  703 ? 4 'binding site for residue CL A 703'\n",
    "AC4 Software A MAL 704 ? 4 'binding site for residue MAL A 704'\n",
    "AC5 Software A MAL 705 ? 4 'binding site for residue MAL A 705'\n",
    "AC6 Software A P4G 707 ? 1 'binding site for residue P4G A 707'\n",
    "AC7 Software A LDP 708 ? 9 'binding site for residue LDP A 708'\n",
    "AC8 Software A EDO 709 ? 2 'binding site for residue EDO A 709'\n",
    "AC9 Software A Y01 710 ? 4 'binding site for residue Y01 A 710'\n",
    "AD1 Software A CLR 711 ? 5 'binding site for residue CLR A 711'\n",
    "AD2 Software L NA  301 ? 4 'binding site for residue NA L 301'\n",
    "AD3 Software A NAG 706 ? 1 'binding site for Mono-Saccharide NAG A 706 bound to ASN A 141'\n",
    "```\n",
    "\n",
    "Using those dictionary entries to get the residues of the binding site."
   ]
  },
  {
   "cell_type": "code",
   "execution_count": null,
   "metadata": {},
   "outputs": [],
   "source": [
    "site_id = cif_dict['_struct_site_gen.site_id']\n",
    "site_chain = cif_dict['_struct_site_gen.auth_asym_id']\n",
    "site_resnum = cif_dict['_struct_site_gen.auth_seq_id']\n",
    "site_resname = cif_dict['_struct_site_gen.label_comp_id']\n",
    "\n",
    "\n",
    "cif_binding_residues = []\n",
    "for bind_id, chain, res_num, name in zip(site_id, site_chain, site_resnum, site_resname):\n",
    "    if bind_id == \"AC7\":\n",
    "        print(bind_id, chain, res_num, name)\n",
    "        try:\n",
    "            cif_binding_residues.append(structure_cif[0][chain][int(res_num)])\n",
    "        except:\n",
    "            continue\n",
    "print([x.id for x in cif_binding_residues])"
   ]
  },
  {
   "cell_type": "markdown",
   "metadata": {},
   "source": [
    "Why do we get an error when not using error handling (try/except)?\n",
    "\n",
    "Does the binding site differ from the one you calculated earlier?"
   ]
  },
  {
   "cell_type": "markdown",
   "metadata": {},
   "source": [
    "## Step4: More useful tools\n",
    "\n",
    "### Vectors\n",
    "\n",
    "Atomic coordinates also have a vector representation via atom.get_vector().\n",
    "This can be used to calculate distances."
   ]
  },
  {
   "cell_type": "code",
   "execution_count": null,
   "metadata": {},
   "outputs": [],
   "source": [
    "diff = res_56_CA.get_vector() - res_58_CA.get_vector()\n",
    "print(\"Distance from vectors: \", np.sqrt(diff * diff))\n",
    "print(\"Distance from overloaded minus: \", res_56_CA-res_58_CA)"
   ]
  },
  {
   "cell_type": "markdown",
   "metadata": {},
   "source": [
    "The vector module is also useful to calculate angles and dihedrals."
   ]
  },
  {
   "cell_type": "code",
   "execution_count": null,
   "metadata": {},
   "outputs": [],
   "source": [
    "res_100_CA = structure_pdb[0]['A'][100]['CA']\n",
    "res_150_CA = structure_pdb[0]['A'][150]['CA']\n",
    "vector1 = res_56_CA.get_vector()\n",
    "vector2 = res_100_CA.get_vector()\n",
    "vector3 = res_150_CA.get_vector()\n",
    "angle = calc_angle(vector1, vector2, vector3)\n",
    "print(\"The calculated angle is: \",angle)\n",
    "vector4 = res_58_CA.get_vector()\n",
    "dihedral = calc_dihedral(vector1,vector2,vector3,vector4)\n",
    "print(\"The calculated dihedral is: \", dihedral)"
   ]
  },
  {
   "cell_type": "markdown",
   "metadata": {},
   "source": [
    "We already used the dot product (`*`) and there are also other operations implemented, like the cross product (`**`), matrix multiplication, the norm, and some to calculate roation matrices. "
   ]
  },
  {
   "cell_type": "code",
   "execution_count": null,
   "metadata": {},
   "outputs": [],
   "source": [
    "print(vector1**vector2)\n",
    "print(vector1.norm())"
   ]
  },
  {
   "cell_type": "markdown",
   "metadata": {},
   "source": [
    "We can use this to obtain a position estimate of virtual $\\beta$-carbon to some Glycin residue. "
   ]
  },
  {
   "cell_type": "code",
   "execution_count": null,
   "metadata": {},
   "outputs": [],
   "source": [
    "#get some Glycine\n",
    "for residue in structure_pdb[0].get_residues():\n",
    "    if residue.resname== \"GLY\":\n",
    "        gly =residue\n",
    "        break\n",
    "##get vectors of the coordinates for N,Ca and CA\n",
    "n = gly[\"N\"].get_vector()\n",
    "c = gly[\"C\"].get_vector()\n",
    "ca = gly[\"CA\"].get_vector()\n",
    "##calculate a matrix that rotates the N atom \n",
    "n = n - ca #center at origin\n",
    "c = c - ca #center at origin\n",
    "rot = rotaxis(-np.pi * 120/180,c) #the second argument is the axis\n",
    "##apply rotation\n",
    "cb_origin = n.left_multiply(rot)\n",
    "cb = cb_origin + ca"
   ]
  },
  {
   "cell_type": "markdown",
   "metadata": {},
   "source": [
    "### Dowloading directly from the PDB"
   ]
  },
  {
   "cell_type": "code",
   "execution_count": null,
   "metadata": {
    "scrolled": true
   },
   "outputs": [],
   "source": [
    "pdblist = PDBList()\n",
    "pdblist.retrieve_pdb_file('4XP1')"
   ]
  },
  {
   "cell_type": "markdown",
   "metadata": {},
   "source": [
    "### Skipping hierarchy\n",
    "\n",
    "We can directly iterate over all atoms/residues in a structure/model/chain via get_atoms() and get_residues(). "
   ]
  },
  {
   "cell_type": "code",
   "execution_count": null,
   "metadata": {},
   "outputs": [],
   "source": [
    "residues = structure_pdb.get_residues()\n",
    "for residue in residues:\n",
    "    print(residue)"
   ]
  },
  {
   "cell_type": "code",
   "execution_count": null,
   "metadata": {},
   "outputs": [],
   "source": [
    "atoms = chain_L.get_atoms()\n",
    "for atom in atoms:\n",
    "    print(atom)"
   ]
  },
  {
   "cell_type": "markdown",
   "metadata": {},
   "source": [
    "The Selection.unfold_entities function works similar to get lists of atoms/residues..."
   ]
  },
  {
   "cell_type": "code",
   "execution_count": null,
   "metadata": {},
   "outputs": [],
   "source": [
    "atom_list = Selection.unfold_entities(chain_L,\"A\")\n",
    "print(atom_list)"
   ]
  },
  {
   "cell_type": "markdown",
   "metadata": {},
   "source": [
    "Here \"A\" stands for atom, but \"R\" (residue), \"C\" (chain), \"M\" (model) and \"S\" (structure) are also possible.\n",
    "\n",
    "This function also works up in hierarchy, which is useful to get a list of unique parent entities.\n"
   ]
  },
  {
   "cell_type": "code",
   "execution_count": null,
   "metadata": {},
   "outputs": [],
   "source": [
    "chain_list = Selection.unfold_entities(res_list,\"C\")\n",
    "print(chain_list)"
   ]
  },
  {
   "cell_type": "markdown",
   "metadata": {},
   "source": [
    "### Sequence\n",
    "\n",
    "We can also get the sequences of the chains. Therefore we first get polypeptide objects with the PPBuilder and then their sequences."
   ]
  },
  {
   "cell_type": "code",
   "execution_count": null,
   "metadata": {},
   "outputs": [],
   "source": [
    "from Bio.PDB.Polypeptide import *\n",
    "ppb=PPBuilder()\n",
    "for polypeptide in ppb.build_peptides(structure_pdb):\n",
    "    print(polypeptide)\n",
    "    print(polypeptide.get_sequence())"
   ]
  },
  {
   "cell_type": "markdown",
   "metadata": {},
   "source": [
    "### Superimposing\n",
    "\n",
    "A Superimposer object allows us to superimpose two lists of atoms by minimizing their `RMSD`. The who lists need to have the same number of atoms, then the Superimposer can calculate and apply appropriate rotation an translation matrices:\n",
    "\n",
    " - Create a Superimposer object. sup = Superimposer()\n",
    " - Set the atoms that are fixed and those that are to be moved. sup.set_atoms(fixed,moving) ( fixed and moving are lists of atoms)\n",
    " - apply the rotation/translation. sup.apply(moving)\n",
    " - Acces the matrix (sup.rotran) and the RMSD (sup.rms)\n",
    "\n",
    "\n",
    "We will use this in the exercises."
   ]
  },
  {
   "cell_type": "markdown",
   "metadata": {},
   "source": [
    "### Writing a part of a structure\n",
    "\n",
    "We have already seen, that by default the `PDBIO` class writes the whole structure. We can change this behaviour:"
   ]
  },
  {
   "cell_type": "code",
   "execution_count": null,
   "metadata": {},
   "outputs": [],
   "source": [
    "class ChainLSelect(Select):\n",
    "    def accept_chain(self, chain):\n",
    "        if chain.get_id() ==\"L\":\n",
    "            return True\n",
    "        else:\n",
    "            return False\n",
    "io = PDBIO()\n",
    "io.set_structure(structure_pdb)\n",
    "io.save(\"chain_L.pdb\",ChainLSelect())"
   ]
  },
  {
   "cell_type": "markdown",
   "metadata": {},
   "source": [
    "Here we write only chain L. We can change accept_model(model), accept_residue(residue) and accept_atom(atom) in the same way. Return `True` when output is desired and `False` otherwise."
   ]
  }
 ],
 "metadata": {
  "kernelspec": {
   "display_name": "Python 3",
   "language": "python",
   "name": "python3"
  },
  "language_info": {
   "codemirror_mode": {
    "name": "ipython",
    "version": 3
   },
   "file_extension": ".py",
   "mimetype": "text/x-python",
   "name": "python",
   "nbconvert_exporter": "python",
   "pygments_lexer": "ipython3",
   "version": "3.7.3"
  }
 },
 "nbformat": 4,
 "nbformat_minor": 2
}
