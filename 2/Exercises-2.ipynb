{
 "cells": [
  {
   "cell_type": "markdown",
   "metadata": {},
   "source": [
    "# Exercises for day 2"
   ]
  },
  {
   "cell_type": "markdown",
   "metadata": {},
   "source": [
    "### Exercise 1"
   ]
  },
  {
   "cell_type": "markdown",
   "metadata": {},
   "source": [
    "Guess my number - part 2.\n",
    "\n",
    "Extend your guessing program in a way, that you can repeat to enter a number until you have the right one."
   ]
  },
  {
   "cell_type": "code",
   "execution_count": null,
   "metadata": {
    "collapsed": true
   },
   "outputs": [],
   "source": []
  },
  {
   "cell_type": "markdown",
   "metadata": {},
   "source": [
    "### Exercise 2"
   ]
  },
  {
   "cell_type": "markdown",
   "metadata": {},
   "source": [
    "Write a function that takes a number as input (by default 5) and returns its factorial.\n",
    "\n",
    "*n!=n(n-1)(n-2)...1*\n",
    "\n",
    "You have to check, that the number is not negative. Also we can only compute the factorial of integers, so turn the inputnumber into a int.\n",
    "\n",
    "Hint: there are two ways to compute it:\n",
    "* iteratively - use a for loop;\n",
    "* recursively - you can call a function from itself (n! = n(n-1)!)"
   ]
  },
  {
   "cell_type": "code",
   "execution_count": null,
   "metadata": {
    "collapsed": true
   },
   "outputs": [],
   "source": []
  },
  {
   "cell_type": "markdown",
   "metadata": {},
   "source": [
    "### Exercise 3\n",
    "\n",
    "Write a function that compute the arithmetric mean of a arbitrary number of numbers."
   ]
  },
  {
   "cell_type": "code",
   "execution_count": null,
   "metadata": {
    "collapsed": true
   },
   "outputs": [],
   "source": []
  },
  {
   "cell_type": "markdown",
   "metadata": {},
   "source": [
    "### Exercise 4"
   ]
  },
  {
   "cell_type": "markdown",
   "metadata": {},
   "source": [
    "Copy your functions for factorial and mean one file. Extend it to a program, that asks the user if he wants to compute the factorial of a number or the arithmetic mean of a series of numbers or exit. \n",
    "\n",
    "According to the user's input, ask for one number and print The factorial of {input number} is {factorial}., or ask for many numbers and print The arithmetric mean of {list of numbers} is {mean}. \n",
    "\n",
    "Ask again till the user chooses to exit.\n",
    "\n",
    "Hint: if you want to use a list as input for a function that expects a series of numbers (for example your arithmetic mean function), you ca use the unpacking operator (e.g. function(*star*list))\n",
    "\n"
   ]
  },
  {
   "cell_type": "code",
   "execution_count": null,
   "metadata": {
    "collapsed": true
   },
   "outputs": [],
   "source": []
  },
  {
   "cell_type": "markdown",
   "metadata": {},
   "source": [
    "### Exercise 5"
   ]
  },
  {
   "cell_type": "markdown",
   "metadata": {},
   "source": [
    "Modify your program, to add an option to compute the arithmetic mean of numbers saved to a file on your computer.\n",
    "Here you should take the name of the file as userinput."
   ]
  },
  {
   "cell_type": "code",
   "execution_count": null,
   "metadata": {
    "collapsed": true
   },
   "outputs": [],
   "source": []
  },
  {
   "cell_type": "markdown",
   "metadata": {},
   "source": [
    "### Exercise 6"
   ]
  },
  {
   "cell_type": "markdown",
   "metadata": {},
   "source": [
    "Guess my number - part 3!\n",
    "\n",
    "* Extend your guessing program in a way, that you have only 5 attempts.\n",
    "Also print the information about how many attempts are left. (Use a for loop!)\n",
    "\n",
    "* Make the number of guesses variable. Add a second input line in the beginning to enter a number of possible attempts. Print You lost! if the number was not guessed."
   ]
  },
  {
   "cell_type": "code",
   "execution_count": null,
   "metadata": {
    "collapsed": true
   },
   "outputs": [],
   "source": []
  },
  {
   "cell_type": "markdown",
   "metadata": {},
   "source": [
    "### Exercise 7"
   ]
  },
  {
   "cell_type": "markdown",
   "metadata": {},
   "source": [
    "Write the output you expect on a piece of paper. Afterwards, check by executing the program."
   ]
  },
  {
   "cell_type": "code",
   "execution_count": 2,
   "metadata": {},
   "outputs": [
    {
     "name": "stdout",
     "output_type": "stream",
     "text": [
      " Inside a: 42\n",
      " Inside b: 17\n",
      " Inside x: 4\n",
      " Inside y: 17\n",
      " Outside a: 42\n",
      " Outside b: 15\n",
      " Outside x: 3\n",
      " Outside y: 4\n"
     ]
    }
   ],
   "source": [
    "def foo(x, y):\n",
    "    global a\n",
    "    a = 42\n",
    "    x,y = y,x\n",
    "    b = 33\n",
    "    b = 17\n",
    "    c = 100\n",
    "    print (\" Inside a:\", a)\n",
    "    print (\" Inside b:\", b)\n",
    "    print (\" Inside x:\", x ,)\n",
    "    print (\" Inside y:\", y)\n",
    "    \n",
    "a,b,x,y = 1 ,15 ,3 ,4\n",
    "foo (17 ,4)\n",
    "print (\" Outside a:\", a)\n",
    "print (\" Outside b:\", b)\n",
    "print (\" Outside x:\", x ,)\n",
    "print (\" Outside y:\", y)"
   ]
  }
 ],
 "metadata": {
  "kernelspec": {
   "display_name": "Python 3",
   "language": "python",
   "name": "python3"
  },
  "language_info": {
   "codemirror_mode": {
    "name": "ipython",
    "version": 3
   },
   "file_extension": ".py",
   "mimetype": "text/x-python",
   "name": "python",
   "nbconvert_exporter": "python",
   "pygments_lexer": "ipython3",
   "version": "3.6.1"
  }
 },
 "nbformat": 4,
 "nbformat_minor": 2
}
