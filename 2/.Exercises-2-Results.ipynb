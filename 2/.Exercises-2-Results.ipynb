{
 "cells": [
  {
   "cell_type": "markdown",
   "metadata": {},
   "source": [
    "# Exercises for day 2"
   ]
  },
  {
   "cell_type": "markdown",
   "metadata": {},
   "source": [
    "### Exercise 1"
   ]
  },
  {
   "cell_type": "markdown",
   "metadata": {},
   "source": [
    "Guess my number - part 2.\n",
    "\n",
    "Extend your guessing program in a way, that you can repeat to enter a number until you have the right one."
   ]
  },
  {
   "cell_type": "code",
   "execution_count": null,
   "metadata": {
    "collapsed": true
   },
   "outputs": [],
   "source": [
    "number_to_guess=int(input('Give the first number: '))\n",
    "try_number=-2\n",
    "\n",
    "while number_to_guess != try_number: \n",
    "    try_number=int(input('Give the second number: '))\n",
    "    if number_to_guess < try_number:\n",
    "        print(\"My number is smaller.\")\n",
    "    elif number_to_guess > try_number:\n",
    "        print(\"My number is bigger.\")\n",
    "    else:\n",
    "        print(\"YES! This is my number\")\n",
    "        break"
   ]
  },
  {
   "cell_type": "markdown",
   "metadata": {},
   "source": [
    "### Exercise 2"
   ]
  },
  {
   "cell_type": "markdown",
   "metadata": {},
   "source": [
    "Write a function that takes a number as input (by default 5) and returns its factorial.\n",
    "\n",
    "*n!=n(n-1)(n-2)...1*\n",
    "\n",
    "You have to check, that the number is not negative. Also we can only compute the factorial of integers, so turn the inputnumber into a int.\n",
    "\n",
    "Hint: there are two ways to compute it:\n",
    "* iteratively - use a for loop;\n",
    "* recursively - you can call a function from itself (n! = n(n-1)!)"
   ]
  },
  {
   "cell_type": "code",
   "execution_count": null,
   "metadata": {
    "collapsed": true
   },
   "outputs": [],
   "source": [
    "def fact(x=5):\n",
    "    val = int(x)\n",
    "    if(val < 0):\n",
    "        print(\"Negative number, returning 0\")\n",
    "        return 0\n",
    "    res = 1\n",
    "    for i in range(val):\n",
    "        res *= (i+1)\n",
    "    return res\n",
    "\n",
    "#Test default setting\n",
    "print(fact())\n",
    "\n",
    "#Test own value\n",
    "a=int(input(\"Give me a number: \"))\n",
    "print(fact(a))\n"
   ]
  },
  {
   "cell_type": "markdown",
   "metadata": {},
   "source": [
    "### Exercise 3\n",
    "\n",
    "Write a function that compute the arithmetric mean of a arbitrary number of numbers."
   ]
  },
  {
   "cell_type": "code",
   "execution_count": null,
   "metadata": {
    "collapsed": true
   },
   "outputs": [],
   "source": [
    "def ari(*args):\n",
    "    res = 0\n",
    "    for item in args:\n",
    "        res = res + float(item)\n",
    "\n",
    "    res /= (len(args))\n",
    "    return res\n",
    "\n",
    "lst=input(\"Test: \")\n",
    "lst=lst.split()\n",
    "print(int(ari(*lst)))"
   ]
  },
  {
   "cell_type": "markdown",
   "metadata": {},
   "source": [
    "### Exercise 4"
   ]
  },
  {
   "cell_type": "markdown",
   "metadata": {},
   "source": [
    "Copy your functions for factorial and mean to one file. Extend it to a program, that asks the user if he wants to compute the factorial of a number or the arithmetic mean of a series of numbers or exit. \n",
    "\n",
    "According to the user's input, ask for one number and print *The factorial of {input number} is {factorial}.*, or ask for many numbers and print *The arithmetric mean of {list of numbers} is {mean}.* \n",
    "\n",
    "Ask again till the user chooses to exit.\n",
    "\n",
    "Hint: if you want to use a list as input for a function that expects a series of numbers (for example your arithmetic mean function), you ca use the unpacking operator (e.g. function(\\*list))\n",
    "\n"
   ]
  },
  {
   "cell_type": "code",
   "execution_count": 3,
   "metadata": {},
   "outputs": [
    {
     "name": "stdout",
     "output_type": "stream",
     "text": [
      "What would you like to do?\n",
      "    Exit (0)\n",
      "    Compute Factorial (1)\n",
      "    Compute arithmetic mean (2)\n",
      "34\n",
      "Bad choice. Try again\n",
      "What would you like to do?\n",
      "    Exit (0)\n",
      "    Compute Factorial (1)\n",
      "    Compute arithmetic mean (2)\n",
      "0\n",
      "Ciao\n"
     ]
    }
   ],
   "source": [
    "def fact(x=5):\n",
    "    val = int(x)\n",
    "    if(val < 0):\n",
    "        print(\"Negative number, returning 0\")\n",
    "        return 0\n",
    "    res = 1\n",
    "    for i in range(val):\n",
    "        res *= (i+1)\n",
    "    return res\n",
    "\n",
    "def ari(*args):\n",
    "    res = 0\n",
    "    for item in args:\n",
    "        res = res + float(item)\n",
    "\n",
    "    res /= (len(args))\n",
    "    return res\n",
    "\n",
    "while True:\n",
    "    s=input('''What would you like to do?\n",
    "    Exit (0)\n",
    "    Compute Factorial (1)\n",
    "    Compute arithmetic mean (2)\\n''')\n",
    "    ch=int(s)\n",
    "    \n",
    "    if(ch==0): \n",
    "        print('Ciao')\n",
    "        break\n",
    "    elif(ch==1):\n",
    "        n=input(\"Please enter a number: \")\n",
    "        print(\"The factorial of {} is {}.\\n\".format(n, fact(n)))\n",
    "    elif(ch==2):\n",
    "        lst=input(\"Please enter a series of number: \")\n",
    "        lst=lst.split()\n",
    "        print(\"The arithmetic mean of {} is {}.\\n\".format(lst, ari(*lst)))\n",
    "    else:\n",
    "        print(\"Bad choice. Try again\")"
   ]
  },
  {
   "cell_type": "markdown",
   "metadata": {},
   "source": [
    "### Exercise 5"
   ]
  },
  {
   "cell_type": "markdown",
   "metadata": {},
   "source": [
    "Modify your program, to add an option to compute the arithmetic mean of numbers saved to a file on your computer.\n",
    "Here you should take the name of the file as userinput."
   ]
  },
  {
   "cell_type": "code",
   "execution_count": 16,
   "metadata": {
    "scrolled": true
   },
   "outputs": [
    {
     "name": "stdout",
     "output_type": "stream",
     "text": [
      "What would you like to do?\n",
      "    Exit (0)\n",
      "    Compute Factorial (1)\n",
      "    Compute arithmetic mean (2)\n",
      "    Compute arithetic mean of a file (3)\n",
      "0\n",
      "Ciao\n"
     ]
    }
   ],
   "source": [
    "def fact(x=5):\n",
    "    val = int(x)\n",
    "    if(val < 0):\n",
    "        print(\"Negative number, returning 0\")\n",
    "        return 0\n",
    "    res = 1\n",
    "    for i in range(val):\n",
    "        res *= (i+1)\n",
    "    return res\n",
    "\n",
    "def ari(*args):\n",
    "    res = 0\n",
    "    for item in args:\n",
    "        res = res + float(item)\n",
    "\n",
    "    res /= (len(args))\n",
    "    return res\n",
    "\n",
    "while True:\n",
    "    s=input('''What would you like to do?\n",
    "    Exit (0)\n",
    "    Compute Factorial (1)\n",
    "    Compute arithmetic mean (2)\n",
    "    Compute arithetic mean of a file (3)\\n''')\n",
    "    ch=int(s)\n",
    "    \n",
    "    if(ch==0): \n",
    "        print('Ciao')\n",
    "        break\n",
    "    elif(ch==1):\n",
    "        n=input(\"Please enter a number: \")\n",
    "        print(\"The factorial of {} is {}.\\n\".format(n, fact(n)))\n",
    "    elif(ch==2):\n",
    "        lst=input(\"Please enter a series of number: \")\n",
    "        lst=lst.split()\n",
    "        print(\"The arithmetic mean of {} is {}.\\n\".format(lst, ari(*lst)))\n",
    "    elif(ch==3):\n",
    "        filename=input(\"Please enter a filename: \")\n",
    "        l=[]\n",
    "        with open(filename, \"r\") as f:\n",
    "            for line in f:\n",
    "                line=line.replace(\"\\n\", \"\")\n",
    "                lst=line.split()\n",
    "                l.extend(lst)\n",
    "        a=ari(*lst)\n",
    "        print(\"The arithmetic mean of {} is {}.\\n\".format(filename,a))\n",
    "    else:\n",
    "        print(\"Bad choice. Try again\")"
   ]
  },
  {
   "cell_type": "markdown",
   "metadata": {},
   "source": [
    "### Exercise 6"
   ]
  },
  {
   "cell_type": "markdown",
   "metadata": {},
   "source": [
    "Guess my number - part 3!\n",
    "\n",
    "* Extend your guessing program in a way, that you have only 5 attempts.\n",
    "Also print the information about how many attempts are left. (Use a for loop!)\n",
    "\n",
    "* Make the number of guesses variable. Add a second input line in the beginning to enter a number of possible attempts. Print You lost! if the number was not guessed."
   ]
  },
  {
   "cell_type": "code",
   "execution_count": 12,
   "metadata": {},
   "outputs": [
    {
     "name": "stdout",
     "output_type": "stream",
     "text": [
      "Give the first number: 4\n",
      "How many guesses? 6\n",
      "Guess my number! You have 6 attemps\n",
      "Give the second number: 1\n",
      "My number is bigger, 5 attempts left.\n",
      "Give the second number: 2\n",
      "My number is bigger, 4 attempts left.\n",
      "Give the second number: 3\n",
      "My number is bigger, 3 attempts left.\n",
      "Give the second number: 6\n",
      "My number is smaller, 2 attempts left.\n",
      "Give the second number: 8\n",
      "My number is smaller, 1 attempts left.\n",
      "Give the second number: 9\n",
      "My number is smaller, 0 attempts left.\n",
      "You lost!\n"
     ]
    }
   ],
   "source": [
    "number_to_guess=int(input('Give the first number: '))\n",
    "try_number=-2\n",
    "\n",
    "guesses=int(input(\"How many guesses? \"))\n",
    "\n",
    "print(\"Guess my number! You have {} attemps\".format(guesses))\n",
    "for i in range(guesses): \n",
    "    try_number=int(input('Give the second number: '))\n",
    "    if number_to_guess < try_number:\n",
    "        print(\"My number is smaller,\", guesses-i-1, \"attempts left.\")\n",
    "    elif number_to_guess > try_number:\n",
    "        print(\"My number is bigger,\", guesses-i-1, \"attempts left.\")\n",
    "    else:\n",
    "        print(\"YES! This is my number\")\n",
    "        break\n",
    "else:\n",
    "    print(\"You lost!\")"
   ]
  },
  {
   "cell_type": "markdown",
   "metadata": {},
   "source": [
    "### Exercise 7"
   ]
  },
  {
   "cell_type": "markdown",
   "metadata": {},
   "source": [
    "Write the output you expect on a piece of paper. Afterwards, check by executing the program."
   ]
  },
  {
   "cell_type": "code",
   "execution_count": 1,
   "metadata": {},
   "outputs": [
    {
     "name": "stdout",
     "output_type": "stream",
     "text": [
      " Inside a: 42\n",
      " Inside b: 17\n",
      " Inside x: 4\n",
      " Inside y: 17\n",
      " Outside a: 42\n",
      " Outside b: 15\n",
      " Outside x: 3\n",
      " Outside y: 4\n"
     ]
    }
   ],
   "source": [
    "def foo(x, y):\n",
    "    global a\n",
    "    a = 42\n",
    "    x,y = y,x\n",
    "    b = 33\n",
    "    b = 17\n",
    "    c = 100\n",
    "    print (\" Inside a:\", a)\n",
    "    print (\" Inside b:\", b)\n",
    "    print (\" Inside x:\", x ,)\n",
    "    print (\" Inside y:\", y)\n",
    "    \n",
    "a,b,x,y = 1 ,15 ,3 ,4\n",
    "foo (17 ,4)\n",
    "print (\" Outside a:\", a)\n",
    "print (\" Outside b:\", b)\n",
    "print (\" Outside x:\", x ,)\n",
    "print (\" Outside y:\", y)"
   ]
  },
  {
   "cell_type": "markdown",
   "metadata": {},
   "source": [
    "### Exercise 8"
   ]
  },
  {
   "cell_type": "markdown",
   "metadata": {},
   "source": [
    "Remember your factorial and arithmetic mean program? What happens if you try to compute the factorial or mean of \"Hello World\"?\n",
    "Make your program save against stupid users using exeptions.\n",
    "Hints:\n",
    "* Trying to turn a string, that does not represent a number, into a number\n",
    "raises a ValueError (there are several)\n",
    "* A division can raise a ZeroDivisionError\n",
    "* Trying to open a file, that doesn't exists raises a FileNotFoundError\n",
    "(please print the error information here!)"
   ]
  },
  {
   "cell_type": "code",
   "execution_count": 17,
   "metadata": {},
   "outputs": [
    {
     "name": "stdout",
     "output_type": "stream",
     "text": [
      "What would you like to do?\n",
      "    Exit (0)\n",
      "    Compute Factorial (1)\n",
      "    Compute arithmetic mean (2)\n",
      "    Compute arithetic mean of a file (3)\n",
      "0\n",
      "Ciao\n"
     ]
    }
   ],
   "source": [
    "def fact(x=5):\n",
    "    val = int(x)\n",
    "    if(val < 0):\n",
    "        print(\"Negative number, returning 0\")\n",
    "        return 0\n",
    "    res = 1\n",
    "    for i in range(val):\n",
    "        res *= (i+1)\n",
    "    return res\n",
    "\n",
    "def ari(*args):\n",
    "    res = 0\n",
    "    for item in args:\n",
    "        res = res + float(item)\n",
    "\n",
    "    res /= (len(args))\n",
    "    return res\n",
    "\n",
    "while True:\n",
    "    s=input('''What would you like to do?\n",
    "    Exit (0)\n",
    "    Compute Factorial (1)\n",
    "    Compute arithmetic mean (2)\n",
    "    Compute arithetic mean of a file (3)\\n''')\n",
    "    ch=int(s)\n",
    "    \n",
    "    if(ch==0): \n",
    "        print('Ciao')\n",
    "        break\n",
    "    elif(ch==1):\n",
    "        n=input(\"Please enter a number: \")\n",
    "        try:\n",
    "            a=int(n)\n",
    "            print(\"The factorial of {} is {}.\\n\".format(a, fact(a)))\n",
    "        except ValueError: \n",
    "            print(\"Input has to be a number.\")\n",
    "    elif(ch==2):\n",
    "        lst=input(\"Please enter a series of number: \")\n",
    "        try:\n",
    "            lst=lst.split() \n",
    "            print(\"The arithmetic mean of {} is {}.\\n\".format(lst, ari(*lst)))\n",
    "        except ZeroDivisionError:\n",
    "            print(\"Cannot divide by zero.\")\n",
    "        except ValueError:\n",
    "            print(\"Input has to be a number.\")\n",
    "    elif(ch==3):\n",
    "        filename=input(\"Please enter a filename: \")\n",
    "        l=[]\n",
    "        try:\n",
    "            with open(filename, \"r\") as f:\n",
    "                for line in f:\n",
    "                    line=line.replace(\"\\n\", \"\")\n",
    "                    lst=line.split()\n",
    "                    l.extend(lst)\n",
    "            a=ari(*lst)\n",
    "            print(\"The arithmetic mean of {} is {}.\\n\".format(filename,a))\n",
    "        except FileNotFoundError:\n",
    "            print(\"Give a real file.\")\n",
    "    else:\n",
    "        print(\"Bad choice. Try again\")"
   ]
  },
  {
   "cell_type": "code",
   "execution_count": 8,
   "metadata": {},
   "outputs": [
    {
     "ename": "TypeError",
     "evalue": "int() argument must be a string, a bytes-like object or a number, not 'list'",
     "output_type": "error",
     "traceback": [
      "\u001b[1;31m---------------------------------------------------------------------------\u001b[0m",
      "\u001b[1;31mTypeError\u001b[0m                                 Traceback (most recent call last)",
      "\u001b[1;32m<ipython-input-8-bc720855547f>\u001b[0m in \u001b[0;36m<module>\u001b[1;34m()\u001b[0m\n\u001b[0;32m      1\u001b[0m \u001b[0mlst\u001b[0m\u001b[1;33m=\u001b[0m\u001b[1;33m[\u001b[0m\u001b[1;34m\"sdf\"\u001b[0m\u001b[1;33m,\u001b[0m\u001b[1;36m2\u001b[0m\u001b[1;33m,\u001b[0m\u001b[1;36m3\u001b[0m\u001b[1;33m]\u001b[0m\u001b[1;33m\u001b[0m\u001b[0m\n\u001b[1;32m----> 2\u001b[1;33m \u001b[0mint\u001b[0m\u001b[1;33m(\u001b[0m\u001b[0mlst\u001b[0m\u001b[1;33m)\u001b[0m\u001b[1;33m\u001b[0m\u001b[0m\n\u001b[0m",
      "\u001b[1;31mTypeError\u001b[0m: int() argument must be a string, a bytes-like object or a number, not 'list'"
     ]
    }
   ],
   "source": [
    "lst=[\"sdf\",2,3]\n",
    "int(lst)"
   ]
  }
 ],
 "metadata": {
  "kernelspec": {
   "display_name": "Python 3",
   "language": "python",
   "name": "python3"
  },
  "language_info": {
   "codemirror_mode": {
    "name": "ipython",
    "version": 3
   },
   "file_extension": ".py",
   "mimetype": "text/x-python",
   "name": "python",
   "nbconvert_exporter": "python",
   "pygments_lexer": "ipython3",
   "version": "3.6.5"
  }
 },
 "nbformat": 4,
 "nbformat_minor": 2
}
