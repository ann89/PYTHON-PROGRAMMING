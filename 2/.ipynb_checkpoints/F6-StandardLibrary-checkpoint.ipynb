{
 "cells": [
  {
   "cell_type": "markdown",
   "metadata": {},
   "source": [
    "# Standard Library\n",
    "We already know some of the standard functions, like mathematical functions, conversions...\n",
    "## Input/Output"
   ]
  },
  {
   "cell_type": "code",
   "execution_count": null,
   "metadata": {},
   "outputs": [],
   "source": [
    "userInput = input(\"How are you? \")\n",
    "# prints the questions and returns the answer, both question and answer are strings"
   ]
  },
  {
   "cell_type": "code",
   "execution_count": null,
   "metadata": {},
   "outputs": [],
   "source": [
    "print(userInput)"
   ]
  },
  {
   "cell_type": "code",
   "execution_count": null,
   "metadata": {},
   "outputs": [],
   "source": [
    "type(userInput)"
   ]
  },
  {
   "cell_type": "code",
   "execution_count": null,
   "metadata": {},
   "outputs": [],
   "source": [
    "#print(comma-seperated-objects[, sep='seperator', end='line-ending']) prints anything seperated by the given seperator \n",
    "#(default is one space) and the given line-ending (default is a new line)\n",
    "print(1,2,3,4,5)\n",
    "print(1,2,3,4,5,sep='-',end=\"!!!\\n\")\n",
    "print(\"test\")"
   ]
  },
  {
   "cell_type": "markdown",
   "metadata": {},
   "source": [
    "A more sophisticated method for string-builing is \"fill-in-the-braces\":"
   ]
  },
  {
   "cell_type": "code",
   "execution_count": null,
   "metadata": {},
   "outputs": [],
   "source": [
    "print(\"A\",\"string\",\"with braces, where the\", \"braces\", \"are filled with\", \"anything\")"
   ]
  },
  {
   "cell_type": "code",
   "execution_count": null,
   "metadata": {},
   "outputs": [],
   "source": [
    "\"A {} with braces, where the {} are filled with {}\".format(\"string\", \"braces\", \"anything\")"
   ]
  },
  {
   "cell_type": "code",
   "execution_count": null,
   "metadata": {},
   "outputs": [],
   "source": [
    "print(\"The answer to {}, the {} and {} is {}.\".format(\"the world\",\"universe\",\"everything\",42))"
   ]
  },
  {
   "cell_type": "code",
   "execution_count": null,
   "metadata": {},
   "outputs": [],
   "source": [
    "name = input(\"What's your name? \")\n",
    "print(\"Hello {}\".format(name))\n",
    "age = input(\"How old are you? \")\n",
    "print(\"{} is a great age!\".format(age))"
   ]
  },
  {
   "cell_type": "markdown",
   "metadata": {},
   "source": [
    "The formating can be even more precisely defined:\n",
    "* {:5d}   prints 5 positions of an integer\n",
    "* {:5.2f} prints a float with 2 positions after the comma and 5 before\n",
    "* {:e}    prints a float in exponential form\n",
    "* {:20s} prints minimum 20 string positions (filled up with blanks)\n",
    "* {:<20} prints left-aligned with 20 positions\n",
    "* {:>20} prints right-alinged with 20 positions\n",
    "* \\t tab\n",
    "* \\n new line"
   ]
  },
  {
   "cell_type": "code",
   "execution_count": null,
   "metadata": {
    "collapsed": true
   },
   "outputs": [],
   "source": [
    "print(\"{:>10}\\n{:>10}\".format(\"test\", \"moretest\"))"
   ]
  },
  {
   "cell_type": "markdown",
   "metadata": {},
   "source": [
    "## File I/O"
   ]
  },
  {
   "cell_type": "markdown",
   "metadata": {},
   "source": [
    "```python\n",
    "#reading\n",
    "with open(\"filename.txt\", \"r\") as f:\n",
    "    for line in f:\n",
    "        do_something\n",
    "        \n",
    "#writing\n",
    "with open(\"filename.txt\", \"w\") as f:\n",
    "    print(\"sometext\", file=f)\n",
    "    \n",
    "#alternative\n",
    "f = open(\"filename.txt\", \"r\"/\"w\")\n",
    "    for line in f:\n",
    "        do_something\n",
    "f.close()\n",
    "```"
   ]
  },
  {
   "cell_type": "code",
   "execution_count": null,
   "metadata": {
    "collapsed": true
   },
   "outputs": [],
   "source": [
    "%%writefile data.txt\n",
    "This is the first line of data.txt\n",
    "This is the second line of data.txt"
   ]
  },
  {
   "cell_type": "code",
   "execution_count": null,
   "metadata": {
    "collapsed": true
   },
   "outputs": [],
   "source": [
    "f = open('data.txt', 'r')"
   ]
  },
  {
   "cell_type": "code",
   "execution_count": null,
   "metadata": {
    "collapsed": true
   },
   "outputs": [],
   "source": [
    "f.readline()"
   ]
  },
  {
   "cell_type": "code",
   "execution_count": null,
   "metadata": {
    "collapsed": true
   },
   "outputs": [],
   "source": [
    "f.readline()"
   ]
  },
  {
   "cell_type": "code",
   "execution_count": null,
   "metadata": {
    "collapsed": true
   },
   "outputs": [],
   "source": [
    "f.seek(0)"
   ]
  },
  {
   "cell_type": "code",
   "execution_count": null,
   "metadata": {
    "collapsed": true,
    "scrolled": true
   },
   "outputs": [],
   "source": [
    "for line in f:\n",
    "    print(line)"
   ]
  },
  {
   "cell_type": "code",
   "execution_count": null,
   "metadata": {
    "collapsed": true
   },
   "outputs": [],
   "source": [
    "f.seek(0)"
   ]
  },
  {
   "cell_type": "code",
   "execution_count": null,
   "metadata": {
    "collapsed": true
   },
   "outputs": [],
   "source": [
    "f.readlines()"
   ]
  },
  {
   "cell_type": "code",
   "execution_count": null,
   "metadata": {
    "collapsed": true
   },
   "outputs": [],
   "source": [
    "f.close()"
   ]
  },
  {
   "cell_type": "markdown",
   "metadata": {},
   "source": [
    "<div class=\"alert alert-success\">\n",
    "\n",
    "<b>EXERCISE</b>:\n",
    "\n",
    "Append two new lines of your choice in the file `data.txt`.<br />\n",
    "\n",
    "Then, read the file again and check that the lines have been added.\n",
    "\n",
    "</div>"
   ]
  },
  {
   "cell_type": "code",
   "execution_count": null,
   "metadata": {
    "collapsed": true
   },
   "outputs": [],
   "source": []
  },
  {
   "cell_type": "markdown",
   "metadata": {},
   "source": [
    "## Modules\n",
    "\n",
    "More useful stuff is in modules, you can load and then use modules"
   ]
  },
  {
   "cell_type": "code",
   "execution_count": null,
   "metadata": {
    "collapsed": true
   },
   "outputs": [],
   "source": [
    "import moduleName\n",
    "moduleName.functionName(parameters)"
   ]
  },
  {
   "cell_type": "code",
   "execution_count": null,
   "metadata": {
    "collapsed": true
   },
   "outputs": [],
   "source": [
    "from moduleName import functionName, otherFunctionName\n",
    "from moduleName2 import * #* for all\n",
    "functionName(parameters)"
   ]
  },
  {
   "cell_type": "code",
   "execution_count": null,
   "metadata": {
    "collapsed": true
   },
   "outputs": [],
   "source": [
    "from moduleName import functionName as newName\n",
    "newName(parameters)"
   ]
  },
  {
   "cell_type": "markdown",
   "metadata": {},
   "source": [
    "Example"
   ]
  },
  {
   "cell_type": "code",
   "execution_count": null,
   "metadata": {
    "collapsed": true
   },
   "outputs": [],
   "source": [
    "import random\n",
    "from math import sqrt\n",
    "from math import sin as mySin\n",
    "from time import * #not very nice!"
   ]
  },
  {
   "cell_type": "code",
   "execution_count": null,
   "metadata": {
    "collapsed": true
   },
   "outputs": [],
   "source": [
    "print(random())"
   ]
  },
  {
   "cell_type": "code",
   "execution_count": null,
   "metadata": {
    "collapsed": true
   },
   "outputs": [],
   "source": [
    "print(random.random())"
   ]
  },
  {
   "cell_type": "code",
   "execution_count": null,
   "metadata": {
    "collapsed": true
   },
   "outputs": [],
   "source": [
    "print(sqrt(2))"
   ]
  },
  {
   "cell_type": "code",
   "execution_count": null,
   "metadata": {
    "collapsed": true
   },
   "outputs": [],
   "source": [
    "print(sin(5))"
   ]
  },
  {
   "cell_type": "code",
   "execution_count": null,
   "metadata": {
    "collapsed": true
   },
   "outputs": [],
   "source": [
    "print(mySin(5))"
   ]
  },
  {
   "cell_type": "code",
   "execution_count": null,
   "metadata": {
    "collapsed": true
   },
   "outputs": [],
   "source": [
    "sleep(2)\n",
    "print(\"Wake up\")"
   ]
  },
  {
   "cell_type": "code",
   "execution_count": null,
   "metadata": {
    "collapsed": true
   },
   "outputs": [],
   "source": [
    "import numpy as np\n",
    "import matplotlib.pyplot as plt"
   ]
  },
  {
   "cell_type": "markdown",
   "metadata": {},
   "source": [
    "There are many many many modules, here some useful examples:\n",
    "* **math: sqrt(x), sin(x), cos(x)**\n",
    "* **random: random()**\n",
    "* **time: localtime(time()), sleep(secs)**\n",
    "* **calendar**\n",
    "* **os: rename(\"f1\", \"f2\"), remove(\"file\"), mkdir(\"dir\"), rmdir(\"dir\"), chdir(\"dir\"), getcwd(), path.exists(\"path\"), path.isfile(\"path\")**\n",
    "* **shutil: move(\"loc1\", \"loc2\"), copy(\"f1\", \"f2\"), coptytree(\"dir1\", \"dir2\"), rmtree(\"dir\")**\n",
    "* **sys: argv, exit(code)**\n",
    "* **getopt: getopts(argv, options[,longoptions]), getoptError**\n",
    "* **help()** --> modules\n",
    "* **import module** --> **dir(module)**\n"
   ]
  },
  {
   "cell_type": "markdown",
   "metadata": {},
   "source": [
    "<div class=\"alert alert-success\">\n",
    "\n",
    "<b>EXERCISE</b>:\n",
    "\n",
    "Using the documentation of `os` (`help(os)`), do the following instructions:\n",
    "    \n",
    "<ul>\n",
    "  <li>List the content of the current folder;</li>\n",
    "  <li>Make a directory;</li>\n",
    "  <li>Rename this directory;</li>\n",
    "</ul>\n",
    "\n",
    "</div>"
   ]
  },
  {
   "cell_type": "code",
   "execution_count": null,
   "metadata": {
    "collapsed": true
   },
   "outputs": [],
   "source": [
    "import os"
   ]
  }
 ],
 "metadata": {
  "kernelspec": {
   "display_name": "Python 3",
   "language": "python",
   "name": "python3"
  },
  "language_info": {
   "codemirror_mode": {
    "name": "ipython",
    "version": 3
   },
   "file_extension": ".py",
   "mimetype": "text/x-python",
   "name": "python",
   "nbconvert_exporter": "python",
   "pygments_lexer": "ipython3",
   "version": "3.7.3"
  }
 },
 "nbformat": 4,
 "nbformat_minor": 2
}
