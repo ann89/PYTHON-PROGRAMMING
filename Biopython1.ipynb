{
 "cells": [
  {
   "cell_type": "markdown",
   "metadata": {},
   "source": [
    "# Biopython\n",
    "-------------------------------------------------"
   ]
  },
  {
   "cell_type": "markdown",
   "metadata": {},
   "source": [
    "BioPython is a very popular third party Python package for handling biological data."
   ]
  },
  {
   "cell_type": "markdown",
   "metadata": {},
   "source": [
    "In order to install it, type in a **terminal** window:"
   ]
  },
  {
   "cell_type": "markdown",
   "metadata": {},
   "source": [
    "`bash`\n",
    "\n",
    "`conda install -c anaconda biopython`"
   ]
  },
  {
   "cell_type": "markdown",
   "metadata": {},
   "source": [
    "and follow the instructions at prompt"
   ]
  },
  {
   "cell_type": "markdown",
   "metadata": {},
   "source": [
    "You can check the basic installation and inspect the version by doing:"
   ]
  },
  {
   "cell_type": "code",
   "execution_count": null,
   "metadata": {},
   "outputs": [],
   "source": [
    "import Bio\n",
    "print(Bio.__version__)"
   ]
  },
  {
   "cell_type": "markdown",
   "metadata": {},
   "source": [
    "Biopython has three major functionalities\n",
    "-  Sequence handling\n",
    "-  3D structure\n",
    "-  Population Genetics"
   ]
  },
  {
   "cell_type": "markdown",
   "metadata": {},
   "source": [
    "Some useful references: __[Website](https://biopython.org/)__, __[Tutorial](http://biopython.org/DIST/docs/tutorial/Tutorial.html)__    (most of the examples are coming from these sources)"
   ]
  },
  {
   "cell_type": "markdown",
   "metadata": {},
   "source": [
    "# Working with Sequences in BioPython\n",
    "\n",
    " -  Reading sequence files\n",
    " -  Writing sequence files\n",
    " -  Working with sequence features\n",
    " -  Sequence alignments"
   ]
  },
  {
   "cell_type": "markdown",
   "metadata": {},
   "source": [
    "Sequences are just strings of letters. In principle, we could deal with them defining normal python strings.\n",
    "However, BioPython has some nice features that helps us distinguishing those strings as belonging to DNA, RNA or proteins and working with them."
   ]
  },
  {
   "cell_type": "markdown",
   "metadata": {},
   "source": [
    "## BioPython.Seq"
   ]
  },
  {
   "cell_type": "markdown",
   "metadata": {},
   "source": [
    "Sequences are handled by the __[Seq](https://biopython.org/wiki/Seq)__ class. "
   ]
  },
  {
   "cell_type": "code",
   "execution_count": null,
   "metadata": {},
   "outputs": [],
   "source": [
    "#let's make a generic sequence\n",
    "from Bio.Seq import Seq\n"
   ]
  },
  {
   "cell_type": "code",
   "execution_count": null,
   "metadata": {},
   "outputs": [],
   "source": [
    "help(Seq)"
   ]
  },
  {
   "cell_type": "code",
   "execution_count": null,
   "metadata": {},
   "outputs": [],
   "source": [
    "my_seq = Seq(\"CCCAGGGAG\")"
   ]
  },
  {
   "cell_type": "code",
   "execution_count": null,
   "metadata": {},
   "outputs": [],
   "source": [
    "print(type(my_seq)) #print the type of the object\n",
    "\n",
    "#let's see what attributes this object has\n",
    "dir(my_seq) #prints all the attribute of an object\n",
    "\n",
    "\n",
    "attributes = [a for a in dir(my_seq) if not a.startswith(\"_\")] #\n",
    "print(attributes)"
   ]
  },
  {
   "cell_type": "markdown",
   "metadata": {},
   "source": [
    "\n",
    "The alphabet object is perhaps the important thing that makes the Seq object more than just a string."
   ]
  },
  {
   "cell_type": "code",
   "execution_count": null,
   "metadata": {},
   "outputs": [],
   "source": [
    "my_seq.alphabet"
   ]
  },
  {
   "cell_type": "markdown",
   "metadata": {},
   "source": [
    "The currently available alphabets for Biopython are defined in the Bio.Alphabet module"
   ]
  },
  {
   "cell_type": "code",
   "execution_count": null,
   "metadata": {},
   "outputs": [],
   "source": [
    "from Bio.Alphabet import generic_dna, generic_protein, generic_rna"
   ]
  },
  {
   "cell_type": "code",
   "execution_count": null,
   "metadata": {},
   "outputs": [],
   "source": [
    "my_dna = Seq(\"CCCGGAGAG\", generic_dna)\n",
    "my_rna = Seq(\"ACCCGUUGU\", generic_rna)\n",
    "my_protein = Seq(\"AKMARKHLNL\", generic_protein)"
   ]
  },
  {
   "cell_type": "markdown",
   "metadata": {},
   "source": [
    "Biopython will now know the difference for example between a <font color=blue>DNA</font> base <font color=blue>A</font> for adenine and the <font color=red>protein</font> residue <font color=red>A</font> for alanine."
   ]
  },
  {
   "cell_type": "code",
   "execution_count": null,
   "metadata": {},
   "outputs": [],
   "source": [
    "print(my_dna.alphabet)"
   ]
  },
  {
   "cell_type": "markdown",
   "metadata": {},
   "source": [
    "Let's look at how to utilize this class to do interesting work as, for example, transcribe and translate a sequence "
   ]
  },
  {
   "cell_type": "code",
   "execution_count": null,
   "metadata": {},
   "outputs": [],
   "source": [
    "my_gene = Seq(\"ACTAGCAGCGGA\", generic_dna)\n",
    "\n",
    "#get the mRNA\n",
    "\n",
    "my_transcript = my_gene.transcribe()\n",
    "print(my_transcript)\n",
    "print(my_transcript.alphabet)\n",
    "\n",
    "\n",
    "#get the protein from the mRNA\n",
    "my_protein = my_transcript.translate()\n",
    "print(my_protein)\n",
    "print(my_protein.alphabet)"
   ]
  },
  {
   "cell_type": "markdown",
   "metadata": {},
   "source": [
    "## Sequences act like strings"
   ]
  },
  {
   "cell_type": "markdown",
   "metadata": {},
   "source": [
    "In many ways, we can deal with Seq objects as if they were normal Python strings, for example getting the length, or iterating over the elements:"
   ]
  },
  {
   "cell_type": "code",
   "execution_count": null,
   "metadata": {},
   "outputs": [],
   "source": [
    "my_seq = Seq(\"GATCG\", generic_dna)"
   ]
  },
  {
   "cell_type": "markdown",
   "metadata": {},
   "source": [
    "You can access elements of the sequence in the same way as for strings (but remember, Python counts from zero!):"
   ]
  },
  {
   "cell_type": "code",
   "execution_count": null,
   "metadata": {},
   "outputs": [],
   "source": [
    "print(my_seq[0]) #first letter\n",
    "print(my_seq[2]) #third letter\n",
    "print(my_seq[-1]) #last letter"
   ]
  },
  {
   "cell_type": "markdown",
   "metadata": {},
   "source": [
    "Slicing a sequence:"
   ]
  },
  {
   "cell_type": "code",
   "execution_count": null,
   "metadata": {},
   "outputs": [],
   "source": [
    "my_seq = Seq(\"GATCGATGGGCCTATATAGGATCGAAAATCGC\", generic_dna)\n",
    "my_seq[5:11]"
   ]
  },
  {
   "cell_type": "markdown",
   "metadata": {},
   "source": [
    "Two things are interesting to note:\n",
    "- First, this follows the normal conventions for Python strings. So the first element of the sequence is 0. When you do a slice the first item is included (i.e. 5 in this case) and the last is excluded (11 in this case)\n",
    "- The new object produced is another Seq object which retains the alphabet information from the original Seq object."
   ]
  },
  {
   "cell_type": "markdown",
   "metadata": {},
   "source": [
    "The Seq object has a .count() method, just like a string. Note that this means that like a Python string, this gives a non-overlapping count:"
   ]
  },
  {
   "cell_type": "code",
   "execution_count": null,
   "metadata": {},
   "outputs": [],
   "source": [
    "print(\"AAAA\".count(\"AA\"))\n",
    "print(Seq(\"AAAA\").count(\"AA\"))"
   ]
  },
  {
   "cell_type": "markdown",
   "metadata": {},
   "source": [
    "Naturally, you can in principle add any two Seq objects together - just like you can with Python strings to concatenate them. However, you **can't add sequences with incompatible alphabets**, such as a protein sequence and a DNA sequence:"
   ]
  },
  {
   "cell_type": "code",
   "execution_count": null,
   "metadata": {},
   "outputs": [],
   "source": [
    "protein_seq = Seq(\"EVRNAK\", generic_protein)\n",
    "dna_seq = Seq(\"ACGT\", generic_dna)\n",
    "\n",
    "protein_seq + dna_seq"
   ]
  },
  {
   "cell_type": "code",
   "execution_count": null,
   "metadata": {},
   "outputs": [],
   "source": [
    "protein_seq = Seq(\"EVRNAK\", generic_protein)\n",
    "protein2_seq = Seq(\"RAV\", generic_protein)\n",
    "\n",
    "\n",
    "protein_seq + protein2_seq \n"
   ]
  },
  {
   "cell_type": "markdown",
   "metadata": {},
   "source": [
    "You can also go straight from the DNA to the protein."
   ]
  },
  {
   "cell_type": "markdown",
   "metadata": {},
   "source": [
    "<a id=\"section1\"></a>"
   ]
  },
  {
   "cell_type": "code",
   "execution_count": null,
   "metadata": {},
   "outputs": [],
   "source": [
    "coding_dna = Seq(\"ATGGCCATTGTAATGGGCCGCTGAAAGGGTGCCCGATAG\", generic_dna)\n",
    "myprot = coding_dna.translate()\n",
    "print(myprot)"
   ]
  },
  {
   "cell_type": "markdown",
   "metadata": {},
   "source": [
    "As you can see, we got some STOP codons represented as * and translation continued."
   ]
  },
  {
   "cell_type": "markdown",
   "metadata": {},
   "source": [
    "We can get translation to actually stop when it encounters a STOP codon."
   ]
  },
  {
   "cell_type": "code",
   "execution_count": null,
   "metadata": {},
   "outputs": [],
   "source": [
    "myprot = coding_dna.translate(to_stop=True)\n",
    "print(myprot)"
   ]
  },
  {
   "cell_type": "markdown",
   "metadata": {},
   "source": [
    "We can be even more realistic and only allow translation of valid genes (i.e. with a valid start and stop codon and proper number of bases).\n",
    "\n",
    "This is done by setting the ** cds=True ** keyword argument, which stands for \"coding sequence\".\n",
    "\n",
    "If we don't have a valid coding sequence, we get an exception."
   ]
  },
  {
   "cell_type": "code",
   "execution_count": null,
   "metadata": {},
   "outputs": [],
   "source": [
    "myprot = coding_dna.translate(cds=True)"
   ]
  },
  {
   "cell_type": "markdown",
   "metadata": {},
   "source": [
    "Partial codons are always regarded as an error!"
   ]
  },
  {
   "cell_type": "code",
   "execution_count": null,
   "metadata": {},
   "outputs": [],
   "source": [
    "gene = Seq(\"ATGGCCATTGTAATGTAG\", generic_dna)\n",
    "gene.translate(cds=True)"
   ]
  },
  {
   "cell_type": "markdown",
   "metadata": {},
   "source": [
    "\n",
    "\n",
    "# Reading sequence files "
   ]
  },
  {
   "cell_type": "markdown",
   "metadata": {},
   "source": [
    "Dealing with assorted sequence file formats is one of the strengths of Biopython.The primary module we'll be using is __[Seq.IO](https://biopython.org/wiki/SeqIO)__, which is short for sequence input/output."
   ]
  },
  {
   "cell_type": "markdown",
   "metadata": {},
   "source": [
    "For these examples we're going to use files for the famous bacteria Esherichia coli K12, and some potato genes.\n",
    "To download the sample data needed for this section use the  fetch_sample_data.sh script."
   ]
  },
  {
   "cell_type": "code",
   "execution_count": null,
   "metadata": {},
   "outputs": [],
   "source": [
    "! ./fetch_sample_data.sh\n"
   ]
  },
  {
   "cell_type": "markdown",
   "metadata": {},
   "source": [
    "We'll start by looking at the protein sequence in the FASTA amino acid file, NC_000913.faa. "
   ]
  },
  {
   "cell_type": "markdown",
   "metadata": {},
   "source": [
    "The annotation for a FASTA  sequence is tipically held in the header:"
   ]
  },
  {
   "cell_type": "code",
   "execution_count": null,
   "metadata": {},
   "outputs": [],
   "source": [
    "! head NC_000913.faa"
   ]
  },
  {
   "cell_type": "markdown",
   "metadata": {},
   "source": [
    "The SeqIO.parse takes a path to a file and a format, in this case \"fasta\" and produces an iterator over each entry in the file"
   ]
  },
  {
   "cell_type": "code",
   "execution_count": null,
   "metadata": {},
   "outputs": [],
   "source": [
    "from Bio import SeqIO"
   ]
  },
  {
   "cell_type": "code",
   "execution_count": null,
   "metadata": {},
   "outputs": [],
   "source": [
    "filename = \"NC_000913.faa\"\n",
    "for record in SeqIO.parse(filename, \"fasta\"):\n",
    "    print(type(record))\n",
    "    "
   ]
  },
  {
   "cell_type": "markdown",
   "metadata": {},
   "source": [
    "<div class=\"alert alert-success\">\n",
    "\n",
    "**Exercise 1:**  count the records with Biopython using the SeqIO.parse function and print how many records you have in NC_000913.faa\n",
    "\n",
    "</div>"
   ]
  },
  {
   "cell_type": "code",
   "execution_count": null,
   "metadata": {},
   "outputs": [],
   "source": [
    "# Solution:\n"
   ]
  },
  {
   "cell_type": "markdown",
   "metadata": {},
   "source": [
    "## Looking at the Records"
   ]
  },
  {
   "cell_type": "markdown",
   "metadata": {},
   "source": [
    "In the above example, we used a for loop to count the records in a FASTA file, but didn't actually look at the information in the records. \n",
    "The **SeqIO.parse** function was creating **SeqRecord** objects. \n",
    "Biopython's SeqRecord objects are a container holding the sequence, and any annotation about it - most importantly the identifier."
   ]
  },
  {
   "cell_type": "code",
   "execution_count": null,
   "metadata": {},
   "outputs": [],
   "source": [
    "print(record.id)"
   ]
  },
  {
   "cell_type": "code",
   "execution_count": null,
   "metadata": {},
   "outputs": [],
   "source": [
    "print (record.seq)"
   ]
  },
  {
   "cell_type": "markdown",
   "metadata": {},
   "source": [
    " This simple example prints out the record identifers and their lengths:"
   ]
  },
  {
   "cell_type": "code",
   "execution_count": null,
   "metadata": {},
   "outputs": [],
   "source": [
    "from Bio import SeqIO\n",
    "filename = \"NC_000913.faa\"\n",
    "for record in SeqIO.parse(filename, \"fasta\"):\n",
    "    print(\"Record \" + record.id + \", length \" + str(len(record.seq)))"
   ]
  },
  {
   "cell_type": "markdown",
   "metadata": {},
   "source": [
    "<div class=\"alert alert-success\">\n",
    "**Excercise 2:** - Warm up - Count how many sequences are less than 100 amino acids long\n",
    "\n",
    "<div>"
   ]
  },
  {
   "cell_type": "code",
   "execution_count": null,
   "metadata": {},
   "outputs": [],
   "source": [
    "#Solution\n",
    "\n"
   ]
  },
  {
   "cell_type": "markdown",
   "metadata": {},
   "source": [
    " <div class=\"alert alert-success\">\n",
    " **Exercise 3:** - Warm up - Plot a histogram of the sequence length distribution\n",
    " <div>"
   ]
  },
  {
   "cell_type": "code",
   "execution_count": null,
   "metadata": {},
   "outputs": [],
   "source": [
    "#Solution\n",
    "\n"
   ]
  },
  {
   "cell_type": "markdown",
   "metadata": {},
   "source": [
    "In the next example we'll check all the protein sequences start with a methionine (represented as the letter \"M\" in the standard IUPAC single letter amino acid code), and count how many records fail this.\n",
    "\n"
   ]
  },
  {
   "cell_type": "code",
   "execution_count": null,
   "metadata": {},
   "outputs": [],
   "source": [
    "from Bio import SeqIO\n",
    "filename = \"NC_000913.faa\"\n",
    "bad = 0\n",
    "for record in SeqIO.parse(filename, \"fasta\"):\n",
    "    if not record.seq.startswith(\"M\"):\n",
    "        bad = bad + 1\n",
    "        print(record.id + \" starts \" + record.seq[0])\n",
    "print(\"Found \" + str(bad) + \" records in \" + filename + \" which did not start with M\")"
   ]
  },
  {
   "cell_type": "markdown",
   "metadata": {},
   "source": [
    " <div class=\"alert alert-success\">\n",
    "**Excercise 4**: Modify the script above  to print out the description of the problem records, not just the identifier for the the potato protein file *PGSC_DM_v3.4_pep_representative.fasta*.\n",
    "\n",
    "\n",
    "- What did you notice about these record descriptions? \n",
    "- Can you think of any reasons why there could be so many genes/proteins with a problem at the start?\n",
    "\n",
    "<div>"
   ]
  },
  {
   "cell_type": "code",
   "execution_count": null,
   "metadata": {},
   "outputs": [],
   "source": [
    "#Solution"
   ]
  },
  {
   "cell_type": "markdown",
   "metadata": {},
   "source": [
    "## Different File Formats"
   ]
  },
  {
   "cell_type": "markdown",
   "metadata": {},
   "source": [
    "The Biopython SeqIO module supports quite a few other important sequence file formats (see the table on the SeqIO wiki page)."
   ]
  },
  {
   "cell_type": "markdown",
   "metadata": {},
   "source": [
    "If you work with genomes, you'll probably have to deal with annotated files in the EMBL or GenBank format. Let's try this with the E. coli K12 GenBank file, NC_000913.gbk, based on the previous example:"
   ]
  },
  {
   "cell_type": "code",
   "execution_count": null,
   "metadata": {},
   "outputs": [],
   "source": [
    "import timeit\n",
    "from Bio import SeqIO\n",
    "start_time = timeit.default_timer()\n",
    "fasta_record = SeqIO.read(\"NC_000913.fna\", \"fasta\")\n",
    "print(fasta_record.id + \" length \" + str(len(fasta_record)))\n",
    "elapsed = timeit.default_timer() - start_time\n",
    "print(\"time:\",elapsed)"
   ]
  },
  {
   "cell_type": "code",
   "execution_count": null,
   "metadata": {},
   "outputs": [],
   "source": [
    "import timeit\n",
    "from Bio import SeqIO\n",
    "start_time = timeit.default_timer()\n",
    "genbank_record = SeqIO.read(\"NC_000913.gbk\", \"genbank\")\n",
    "print(genbank_record.id + \" length \" + str(len(genbank_record)))\n",
    "elapsed = timeit.default_timer() - start_time\n",
    "print(\"time:\", elapsed)"
   ]
  },
  {
   "cell_type": "markdown",
   "metadata": {},
   "source": [
    "All we needed to change was the file format argument to the SeqIO.read(...) function - and we could load a GenBank file instead. \n",
    "You'll notice the GenBank version was given a shorter identifier, and took longer to load. \n",
    "The reason is that there is a lot more information present - most importantly lots of features (where each gene is and so on). We'll return to this in a later section (working with sequence features)."
   ]
  },
  {
   "cell_type": "markdown",
   "metadata": {},
   "source": [
    "# Writing sequence files "
   ]
  },
  {
   "cell_type": "markdown",
   "metadata": {},
   "source": [
    "We can also write our own sequence using the  **Bio.SeqIO.write()** function."
   ]
  },
  {
   "cell_type": "markdown",
   "metadata": {},
   "source": [
    "This is a function taking three arguments:\n",
    "some SeqRecord objects, a handle or filename to write to, and a sequence format."
   ]
  },
  {
   "cell_type": "code",
   "execution_count": null,
   "metadata": {},
   "outputs": [],
   "source": [
    "from Bio.Seq import Seq\n",
    "from Bio.SeqRecord import SeqRecord\n",
    "from Bio.Alphabet import generic_protein\n",
    "\n",
    "record1 = SeqRecord(Seq(\"ALKHTYIKKKLLLMN\", generic_protein), id =\"1|1|\", description =\"protein 1\")\n",
    "record2 = SeqRecord(Seq(\"LTHKLLL\", generic_protein),id=\"2|2|\" ,description = \"protein 2\")\n",
    "\n",
    "my_records = [record1, record2]\n",
    "\n",
    "from Bio import SeqIO\n",
    "SeqIO.write(my_records, \"my_example.faa\", \"fasta\")"
   ]
  },
  {
   "cell_type": "code",
   "execution_count": null,
   "metadata": {},
   "outputs": [],
   "source": [
    "! head -10 my_example.faa\n"
   ]
  },
  {
   "cell_type": "markdown",
   "metadata": {},
   "source": [
    "# Accessing public databases"
   ]
  },
  {
   "cell_type": "markdown",
   "metadata": {},
   "source": [
    "If, rather than getting sequence record from a file, we wish to get data directly from a database then there are a few helper functions in BioPython that allow easy access to some large database"
   ]
  },
  {
   "cell_type": "markdown",
   "metadata": {
    "collapsed": true
   },
   "source": [
    "1. For example, we can read a SWISSPROT record using ExPASy:"
   ]
  },
  {
   "cell_type": "code",
   "execution_count": null,
   "metadata": {},
   "outputs": [],
   "source": [
    "from Bio import ExPASy"
   ]
  },
  {
   "cell_type": "code",
   "execution_count": null,
   "metadata": {},
   "outputs": [],
   "source": [
    "from Bio import SeqIO\n",
    "socketObj = ExPASy.get_sprot_raw('ACM1_HUMAN')\n",
    "proteinObj = SeqIO.read(socketObj, \"swiss\")\n",
    "socketObj.close()"
   ]
  },
  {
   "cell_type": "code",
   "execution_count": null,
   "metadata": {},
   "outputs": [],
   "source": [
    "print(proteinObj.description)\n",
    "print(proteinObj.seq)\n",
    "print(proteinObj.name)\n",
    "print(\"Length %i\" % len(proteinObj))"
   ]
  },
  {
   "cell_type": "markdown",
   "metadata": {},
   "source": [
    "2. Entrez (http://www.ncbi.nlm.nih.gov/Entrez) is a data retrieval system that provides users access to NCBI’s databases such as PubMed, GenBank, GEO, and many others. \n",
    "\n",
    "You can access Entrez from a web browser to manually enter queries, or you can use Biopython’s Bio.Entrez module for programmatic access to Entrez. \n",
    "The latter allows you for example to search PubMed or download GenBank records from within a Python script.\n"
   ]
  },
  {
   "cell_type": "markdown",
   "metadata": {},
   "source": [
    "The Bio.Entrez module makes use of the Entrez Programming Utilities (also known as EUtils), consisting of eight tools that are described in detail on NCBI’s page at http://www.ncbi.nlm.nih.gov/entrez/utils/. \n",
    "\n",
    "Each of these tools corresponds to one Python function in the Bio.Entrez module (for more information: https://biopython.readthedocs.io/en/latest/Tutorial/chapter_entrez.html). \n",
    "\n",
    "This module makes sure that the correct URL is used for the queries, and that not more than one request is made every three seconds, as required by NCBI."
   ]
  },
  {
   "cell_type": "markdown",
   "metadata": {},
   "source": [
    "The output returned by the Entrez Programming Utilities is typically in XML format."
   ]
  },
  {
   "cell_type": "code",
   "execution_count": null,
   "metadata": {},
   "outputs": [],
   "source": [
    "from Bio import Entrez\n",
    "#Please, change the e-mail address below!!!\n",
    "Entrez.email = \"name.surname@fau.de\" #always tell NCBI who you are\n",
    "\n"
   ]
  },
  {
   "cell_type": "markdown",
   "metadata": {},
   "source": [
    "**EInfo** provides field index term counts, last update, and available links for each of NCBI’s databases. In addition, you can use EInfo to obtain a list of all database names accessible through the Entrez utilities:"
   ]
  },
  {
   "cell_type": "code",
   "execution_count": null,
   "metadata": {},
   "outputs": [],
   "source": [
    "handle = Entrez.einfo()\n",
    "result = handle.read()\n",
    "handle.close()"
   ]
  },
  {
   "cell_type": "markdown",
   "metadata": {},
   "source": [
    "The variable result now contains a list of databases in XML format:"
   ]
  },
  {
   "cell_type": "code",
   "execution_count": null,
   "metadata": {},
   "outputs": [],
   "source": [
    "print(result)"
   ]
  },
  {
   "cell_type": "code",
   "execution_count": null,
   "metadata": {},
   "outputs": [],
   "source": [
    "Using Bio.Entrez’s parser, we can directly parse this XML file into a Python object:"
   ]
  },
  {
   "cell_type": "code",
   "execution_count": null,
   "metadata": {},
   "outputs": [],
   "source": [
    "handle = Entrez.einfo()\n",
    "record = Entrez.read(handle)"
   ]
  },
  {
   "cell_type": "markdown",
   "metadata": {},
   "source": [
    "Now record contains **keys** which are the list of database names shown in the XML :"
   ]
  },
  {
   "cell_type": "code",
   "execution_count": null,
   "metadata": {},
   "outputs": [],
   "source": [
    "record[\"DbList\"]"
   ]
  },
  {
   "cell_type": "markdown",
   "metadata": {},
   "source": [
    "To search any of these databases, we use Bio.Entrez.esearch(). For example, let’s search in PubMed for publications related to Biopython:"
   ]
  },
  {
   "cell_type": "code",
   "execution_count": null,
   "metadata": {},
   "outputs": [],
   "source": [
    "handle = Entrez.esearch(db=\"pubmed\", term=\"biopython\")\n",
    "record = Entrez.read(handle)"
   ]
  },
  {
   "cell_type": "code",
   "execution_count": null,
   "metadata": {},
   "outputs": [],
   "source": [
    "print(record[\"IdList\"])"
   ]
  },
  {
   "cell_type": "markdown",
   "metadata": {},
   "source": [
    "In this output, you see lots of PubMed IDs which can be retrieved by EFetch. "
   ]
  },
  {
   "cell_type": "markdown",
   "metadata": {},
   "source": [
    "**EFetch** is what you use when you want to retrieve a full record from Entrez.\n"
   ]
  },
  {
   "cell_type": "markdown",
   "metadata": {},
   "source": [
    "For most of their databases, the NCBI support several different file formats. Requesting a specific file format from Entrez using Bio.Entrez.efetch() requires specifying the **rettype** and/or **retmode** optional arguments.\n",
    "The different combinations are described for each database type on the pages linked to on NCBI efetch webpage (e.g. literature, sequences and taxonomy)."
   ]
  },
  {
   "cell_type": "markdown",
   "metadata": {},
   "source": [
    "One common usage is downloading sequences in the FASTA or GenBank/GenPept plain text formats (which can then be parsed with Bio.SeqIO. From the Cypripedioideae, we can download GenBank record EU490707 using Bio.Entrez.efetch:"
   ]
  },
  {
   "cell_type": "code",
   "execution_count": null,
   "metadata": {},
   "outputs": [],
   "source": [
    "handle = Entrez.efetch(db=\"nucleotide\", id=\"EU490707\", rettype=\"gb\", retmode=\"text\")\n",
    "print(handle.read())"
   ]
  },
  {
   "cell_type": "markdown",
   "metadata": {},
   "source": [
    "The arguments rettype=\"gb\" and retmode=\"text\" let us download this record in the GenBank format. \n",
    "Alternatively, you could for example use rettype=\"fasta\" to get the Fasta-format. Remember – the available formats depend on which database you are downloading from - see the main EFetch Help (https://www.ncbi.nlm.nih.gov/books/NBK25499/#chapter4.EFetch) page. "
   ]
  },
  {
   "cell_type": "markdown",
   "metadata": {},
   "source": [
    "If you fetch the record in one of the formats accepted by Bio.SeqIO, you could directly parse it into a SeqRecord"
   ]
  },
  {
   "cell_type": "code",
   "execution_count": null,
   "metadata": {},
   "outputs": [],
   "source": [
    "filename = \"EU490707.gbk\"\n",
    "net_handle = Entrez.efetch(db=\"nucleotide\", id=\"EU490707\", rettype=\"gb\", retmode=\"text\")\n",
    "out_handle = open(filename, \"w\")\n",
    "out_handle.write(net_handle.read())\n",
    "out_handle.close()\n",
    "net_handle.close()\n",
    "print(\"Saved\")\n",
    "\n",
    "record = SeqIO.read(filename, \"genbank\")\n",
    "print(record)"
   ]
  },
  {
   "cell_type": "markdown",
   "metadata": {},
   "source": [
    "# Working with sequence features"
   ]
  },
  {
   "cell_type": "markdown",
   "metadata": {},
   "source": [
    "Most of the time GenBank files contain a single record for a single chromosome or plasmid, so we'll generally use the SeqIO.read(...) function. Remember the second argument is the file format, so if we start from the code to read in a FASTA file:"
   ]
  },
  {
   "cell_type": "code",
   "execution_count": null,
   "metadata": {},
   "outputs": [],
   "source": [
    "from Bio import SeqIO\n",
    "\n",
    "record = SeqIO.read(\"NC_000913.fna\", \"fasta\")\n",
    "print(record.id)\n",
    "print(len(record))\n",
    "print(len(record.features))\n"
   ]
  },
  {
   "cell_type": "markdown",
   "metadata": {},
   "source": [
    "Now switch the filename and the format:"
   ]
  },
  {
   "cell_type": "code",
   "execution_count": null,
   "metadata": {},
   "outputs": [],
   "source": [
    "record = SeqIO.read(\"NC_000913.gbk\", \"genbank\")\n",
    "print(record.id)\n",
    "print(len(record))\n",
    "print(len(record.features))\n"
   ]
  },
  {
   "cell_type": "markdown",
   "metadata": {},
   "source": [
    "So what is this new **.features** thing? \n",
    "It is a Python list, containing a Biopython SeqFeature object for each feature in the GenBank file. For instance,"
   ]
  },
  {
   "cell_type": "code",
   "execution_count": null,
   "metadata": {},
   "outputs": [],
   "source": [
    "my_gene = record.features[3]\n",
    "print(my_gene)"
   ]
  },
  {
   "cell_type": "markdown",
   "metadata": {},
   "source": [
    "There are three key properties, **.type** which is a string like gene or CDS, **.location** which describes where on the genome this feature is, and **.qualifiers** which is a Python dictionary full of all the annotation for the feature (things like gene identifiers)."
   ]
  },
  {
   "cell_type": "markdown",
   "metadata": {},
   "source": [
    "## Feature Locations"
   ]
  },
  {
   "cell_type": "code",
   "execution_count": null,
   "metadata": {},
   "outputs": [],
   "source": [
    "from Bio import SeqIO\n",
    "record = SeqIO.read(\"NC_000913.gbk\", \"genbank\")\n",
    "my_gene = record.features[3]\n",
    "print(my_gene.qualifiers[\"locus_tag\"])\n",
    "\n",
    "print(my_gene.location)\n",
    "\n",
    "print(my_gene.location.start)\n",
    "\n",
    "print(my_gene.location.end)\n",
    "\n",
    "print(my_gene.location.strand)\n"
   ]
  },
  {
   "cell_type": "markdown",
   "metadata": {},
   "source": [
    "This was a very simple location on the forward strand, if it had been on the reverse strand you'd need to take the reverse-complement. Also if the location had been a more complicated compound location like a join (used for eukaryotic genes where the CDS is made up of several exons), then the location would have-sub parts to consider."
   ]
  },
  {
   "cell_type": "markdown",
   "metadata": {},
   "source": [
    "All these complications are taken care of for you via the .extract(...) method which takes the full length parent record's sequence as an argument:"
   ]
  },
  {
   "cell_type": "code",
   "execution_count": null,
   "metadata": {},
   "outputs": [],
   "source": [
    "gene_seq = my_gene.extract(record.seq)\n",
    "len(gene_seq)\n",
    "print(gene_seq)"
   ]
  },
  {
   "cell_type": "markdown",
   "metadata": {},
   "source": [
    "<div class=\"alert alert-success\">\n",
    "**Exercise 5:** Finish the following script by setting an appropriate feature name like the locus tag or GI number (use the .qualifiers or .dbxrefs information) to extract all the coding sequences from the GenBank file:\n",
    "<div>"
   ]
  },
  {
   "cell_type": "code",
   "execution_count": null,
   "metadata": {},
   "outputs": [],
   "source": [
    "from Bio import SeqIO\n",
    "record = SeqIO.read(\"NC_000913.gbk\", \"genbank\")\n",
    "output_handle = open(\"NC_000913_cds.fasta\", \"w\")\n",
    "count = 0\n",
    "for feature in record.features:\n",
    "    if feature.type == \"CDS\":\n",
    "        count = count + 1\n",
    "        feature_name = \"...\" # Use feature.qualifiers or feature.dbxrefs here\n",
    "        feature_seq = feature.extract(record.seq)\n",
    "        # Simple FASTA output without line wrapping:\n",
    "        output_handle.write(\">\" + feature_name + \"\\n\" + str(feature_seq) + \"\\n\")\n",
    "output_handle.close()\n",
    "print(str(count) + \" CDS sequences extracted\")"
   ]
  },
  {
   "cell_type": "markdown",
   "metadata": {},
   "source": [
    "## Feature Lengths"
   ]
  },
  {
   "cell_type": "markdown",
   "metadata": {},
   "source": [
    "\n",
    "The length of Biopython's SeqFeature objects (and the location objects) is defined as the length of the sequence region they describe (i.e. how many bases are included; or for protein annotation how many amino acids)."
   ]
  },
  {
   "cell_type": "code",
   "execution_count": null,
   "metadata": {},
   "outputs": [],
   "source": [
    "from Bio import SeqIO\n",
    "record = SeqIO.read(\"NC_000913.gbk\", \"genbank\")\n",
    "print(\"Total length of genome is \" + str(len(record)))"
   ]
  },
  {
   "cell_type": "markdown",
   "metadata": {},
   "source": [
    "<div class=\"alert alert-success\">\n",
    "** Exercise 6**: Write a code to calculate to calculate the total length of the genes and of the coding sequences (CDS) within the NC_000913.gbk genome. Give a separate count for the \"gene\" and \"CDS\" feature type. \n",
    "<div>"
   ]
  },
  {
   "cell_type": "code",
   "execution_count": null,
   "metadata": {},
   "outputs": [],
   "source": [
    "#Solution\n",
    "\n"
   ]
  },
  {
   "cell_type": "markdown",
   "metadata": {},
   "source": [
    "What proportion of the genome is annotated as gene coding?"
   ]
  },
  {
   "cell_type": "code",
   "execution_count": null,
   "metadata": {},
   "outputs": [],
   "source": [
    "#Solution:\n"
   ]
  },
  {
   "cell_type": "markdown",
   "metadata": {},
   "source": [
    "<div class=\"alert alert-success\">\n",
    "**Exercise 7:** Extend the previous script to also count the number of features of each type, and report this and the average length of that feature type. e.g.\n",
    "<div>"
   ]
  },
  {
   "cell_type": "raw",
   "metadata": {},
   "source": [
    "\n",
    "Total length of genome is 4641652\n",
    "misc_feature\n",
    " - total number: 13686\n",
    " - total length: 6136082\n",
    " - average length: 448.347362268\n",
    "mobile_element\n",
    " - total number: 49\n",
    " - total length: 50131\n",
    " - average length: 1023.08163265\n",
    "...\n",
    "\n"
   ]
  },
  {
   "cell_type": "code",
   "execution_count": null,
   "metadata": {},
   "outputs": [],
   "source": [
    "#Solution\n"
   ]
  },
  {
   "cell_type": "markdown",
   "metadata": {},
   "source": [
    "# Sequence alignments"
   ]
  },
  {
   "cell_type": "markdown",
   "metadata": {
    "collapsed": true
   },
   "source": [
    "The **AlignIO** module which as the name suggests is for alignment input and ouput. \n",
    "This is focused on dealing with multiple sequence alignments of the kind typically used in phylogenetics - a separate **SearchIO** module targets pairwise alignments generated by search tools like BLAST."
   ]
  },
  {
   "cell_type": "markdown",
   "metadata": {},
   "source": [
    "We're going to look at a small seed alignment for one of the PFAM domains, the A2L zinc ribbon domain (A2L_zn_ribbon; PF08792). This was picked almost at random - it is small enough to see the entire alignment on screen, and has some obvious gap-rich columns."
   ]
  },
  {
   "cell_type": "markdown",
   "metadata": {},
   "source": [
    "From the alignments tab on the Pfam webpage, you can download the raw alignment in several different formats (Selex, Stockholm, FASTA, and MSF). Biopython is able to work with FASTA (very simple) and Stockholm format (richly annotated)."
   ]
  },
  {
   "cell_type": "code",
   "execution_count": null,
   "metadata": {},
   "outputs": [],
   "source": [
    "from Bio import AlignIO\n",
    "\n",
    "alignment = AlignIO.read(\"PF08792_seed.sth\", \"stockholm\")"
   ]
  },
  {
   "cell_type": "markdown",
   "metadata": {},
   "source": [
    "As you might guess from using SeqIO.convert(...) and SeqIO.write(...), there are matching AlignIO.convert() and AlignIO.write(...) functions."
   ]
  },
  {
   "cell_type": "code",
   "execution_count": null,
   "metadata": {},
   "outputs": [],
   "source": [
    "from Bio import AlignIO\n",
    "input_filename = \"PF08792_seed.sth\"\n",
    "output_filename = \"PF08792_seed_converted.fasta\"\n",
    "AlignIO.convert(input_filename, \"stockholm\", output_filename, \"fasta\")"
   ]
  },
  {
   "cell_type": "code",
   "execution_count": null,
   "metadata": {},
   "outputs": [],
   "source": [
    "! head -10 PF08792_seed_converted.fasta\n"
   ]
  },
  {
   "cell_type": "markdown",
   "metadata": {},
   "source": [
    "<div class=\"alert alert-success\">\n",
    "** Excercise 8:** Pairwise Sequence identity:\n",
    "\n",
    "- Calculate the sequence identity (expressed in percentage) between every pair of sequences of the PF08792_seed_converted.fasta data set. \n",
    "\n",
    "- Calculate the mean and the standard deviation of the percentages\n",
    "\n",
    "- Filter the pairs of sequences that have a sequence identity (statistically) significantly deviating from the mean\n",
    "\n",
    "- Save on a fasta file the filtered sequence ordered according to their sequence identity percentage\n",
    "<div>"
   ]
  },
  {
   "cell_type": "markdown",
   "metadata": {},
   "source": [
    "For this exercise you might find useful to know that:"
   ]
  },
  {
   "cell_type": "code",
   "execution_count": null,
   "metadata": {},
   "outputs": [],
   "source": [
    "a=np.array([0,5,7,4,0])\n",
    "print(a)\n",
    "print(a[:]==0)\n",
    "print(a[a[:]==0])"
   ]
  },
  {
   "cell_type": "code",
   "execution_count": null,
   "metadata": {
    "scrolled": true
   },
   "outputs": [],
   "source": [
    "#solution \n",
    "\n",
    "\n",
    "\n"
   ]
  },
  {
   "cell_type": "markdown",
   "metadata": {},
   "source": [
    "Sequence pairs in an alignment can have a score, even when they are not identical,  which describe how similar two sequences are. This similarity is defined considering how *substitutable* one residue type is for another; in other words how likely they are to have been swapped or exchanged for one another.\n",
    "Residues that commonly swap for one another are deemed to be similar and give high scores, while those that rarely swap are dissimilar and give low scores.\n",
    "\n",
    "\n",
    "The substitutability of one residue for another is stored in a two-dimensional array, commonly called **substitution matrix** or **similarity matrix**."
   ]
  },
  {
   "cell_type": "markdown",
   "metadata": {},
   "source": [
    "We will define our similarity matrix using a **python dictionary**\n",
    "\n",
    "A **dictionary** is a collection which is unordered, changeable and indexed. \n",
    "In Python dictionaries are written with curly brackets, and they have keys and values.\n",
    "For example:"
   ]
  },
  {
   "cell_type": "code",
   "execution_count": null,
   "metadata": {},
   "outputs": [],
   "source": [
    "thisdict = {\n",
    "  \"brand\": \"Ford\",\n",
    "  \"model\": \"Mustang\",\n",
    "  \"year\": 1964\n",
    "}\n",
    "print(thisdict)"
   ]
  },
  {
   "cell_type": "markdown",
   "metadata": {},
   "source": [
    "You can access the items of a dictionary by referring to its key name:"
   ]
  },
  {
   "cell_type": "code",
   "execution_count": null,
   "metadata": {},
   "outputs": [],
   "source": [
    "x = thisdict[\"model\"]\n",
    "x"
   ]
  },
  {
   "cell_type": "markdown",
   "metadata": {},
   "source": [
    "Or also use the values() function to return values of a dictionary:"
   ]
  },
  {
   "cell_type": "code",
   "execution_count": null,
   "metadata": {},
   "outputs": [],
   "source": [
    "for x in thisdict.values():\n",
    "    print(x)"
   ]
  },
  {
   "cell_type": "markdown",
   "metadata": {},
   "source": [
    "Adding an item to the dictionary is done by using a new index key and assigning a value to it:"
   ]
  },
  {
   "cell_type": "code",
   "execution_count": null,
   "metadata": {},
   "outputs": [],
   "source": [
    "thisdict ={\n",
    "  \"brand\": \"Ford\",\n",
    "  \"model\": \"Mustang\",\n",
    "  \"year\": 1964\n",
    "}\n",
    "thisdict[\"color\"] = \"red\"\n",
    "print(thisdict)"
   ]
  },
  {
   "cell_type": "markdown",
   "metadata": {},
   "source": [
    "There are several methods to remove items from a dictionary:"
   ]
  },
  {
   "cell_type": "markdown",
   "metadata": {},
   "source": [
    "1. The **del** and the **pop()** keyword both remove the item with the specified key name:"
   ]
  },
  {
   "cell_type": "code",
   "execution_count": null,
   "metadata": {},
   "outputs": [],
   "source": [
    "thisdict = {\n",
    "  \"brand\": \"Ford\",\n",
    "  \"model\": \"Mustang\",\n",
    "  \"year\": 1964\n",
    "}\n",
    "del thisdict[\"model\"]\n",
    "print(thisdict)"
   ]
  },
  {
   "cell_type": "code",
   "execution_count": null,
   "metadata": {},
   "outputs": [],
   "source": [
    "thisdict = {\n",
    "  \"brand\": \"Ford\",\n",
    "  \"model\": \"Mustang\",\n",
    "  \"year\": 1964\n",
    "}\n",
    "thisdict.pop(\"model\")\n",
    "print(thisdict)"
   ]
  },
  {
   "cell_type": "markdown",
   "metadata": {},
   "source": [
    "The del keyword can also delete the dictionary completely:"
   ]
  },
  {
   "cell_type": "code",
   "execution_count": null,
   "metadata": {},
   "outputs": [],
   "source": [
    "thisdict ={\n",
    "  \"brand\": \"Ford\",\n",
    "  \"model\": \"Mustang\",\n",
    "  \"year\": 1964\n",
    "}\n",
    "del thisdict\n",
    "print(thisdict) #this will cause an error because \"thislist\" no longer exists."
   ]
  },
  {
   "cell_type": "markdown",
   "metadata": {},
   "source": [
    "2. The **popitem()** method removes the last inserted item "
   ]
  },
  {
   "cell_type": "code",
   "execution_count": null,
   "metadata": {},
   "outputs": [],
   "source": [
    "thisdict ={\n",
    "  \"brand\": \"Ford\",\n",
    "  \"model\": \"Mustang\",\n",
    "  \"year\": 1964\n",
    "}\n",
    "thisdict.popitem()\n",
    "print(thisdict)"
   ]
  },
  {
   "cell_type": "markdown",
   "metadata": {},
   "source": [
    "3. The **clear ()** method empties the dictionary:"
   ]
  },
  {
   "cell_type": "code",
   "execution_count": null,
   "metadata": {},
   "outputs": [],
   "source": [
    "thisdict ={\n",
    "  \"brand\": \"Ford\",\n",
    "  \"model\": \"Mustang\",\n",
    "  \"year\": 1964\n",
    "}\n",
    "thisdict.clear()\n",
    "print(thisdict)"
   ]
  },
  {
   "cell_type": "markdown",
   "metadata": {},
   "source": [
    "Below there are examples of substitution matrices.\n",
    "\n",
    "* The first one - DNA_1 -is very simple and would give scores as if you were measuring sequence identity (i.e., a score of 1 were residues are identical, 0 elsewhere.). \n",
    "* Rather than scoring DNA for matches we could also score for complementarity (i.e., using Watson-Crick's pairing rules), with 1 for A:T or C:G matches \n",
    "and -1 for mismatches. Expressed as Python dictionary this would correspond to the example called REV_COMP\n",
    "*  Going to a more complex example, in the DNA_2 matrix identicatl residues give a score of 1 but non identitcal -3. The latter indicate that there is a mismatch between the sequence. A score of 0 is here used to indicate indifference\n",
    "* The last example, raprestents one of the most widely used similarity matrix, called BLOSUM62 (to read more about it: https://www.ncbi.nlm.nih.gov/pmc/articles/PMC50453/pdf/pnas01096-0363.pdf ).                                                                               "
   ]
  },
  {
   "cell_type": "code",
   "execution_count": null,
   "metadata": {},
   "outputs": [],
   "source": [
    "DNA_1 = {'G': { 'G':1, 'C':0, 'A':0, 'T':0 },\n",
    "         'C': { 'G':0, 'C':1, 'A':0, 'T':0 },\n",
    "         'A': { 'G':0, 'C':0, 'A':1, 'T':0 },\n",
    "         'T': { 'G':0, 'C':0, 'A':0, 'T':1 }}\n",
    "\n",
    "          \n",
    "REV_COMP = {'G': { 'G':-1, 'C': 1, 'A':-1, 'T':-1 },\n",
    "            'C': { 'G': 1, 'C':-1, 'A':-1, 'T':-1 },\n",
    "            'A': { 'G':-1, 'C':-1, 'A':-1, 'T': 1 },\n",
    "            'T': { 'G':-1, 'C':-1, 'A': 1, 'T':-1 }}\n",
    "\n",
    "          \n",
    "DNA_2 = {'G': { 'G': 1, 'C':-3, 'A':-3, 'T':-3, 'N':0 },\n",
    "         'C': { 'G':-3, 'C': 1, 'A':-3, 'T':-3, 'N':0 },\n",
    "         'A': { 'G':-3, 'C':-3, 'A': 1, 'T':-3, 'N':0 },\n",
    "         'T': { 'G':-3, 'C':-3, 'A':-3, 'T': 1, 'N':0 },\n",
    "         'N': { 'G': 0, 'C': 0, 'A': 0, 'T': 0, 'N':0 }}  \n",
    "\n",
    "BLOSUM62 = {'A':{'A': 4,'R':-1,'N':-2,'D':-2,'C': 0,'Q':-1,'E':-1,'G': 0,'H':-2,'I':-1,\n",
    "                 'L':-1,'K':-1,'M':-1,'F':-2,'P':-1,'S': 1,'T': 0,'W':-3,'Y':-2,'V': 0,'X':0},\n",
    "            'R':{'A':-1,'R': 5,'N': 0,'D':-2,'C':-3,'Q': 1,'E': 0,'G':-2,'H': 0,'I':-3,\n",
    "                 'L':-2,'K': 2,'M':-1,'F':-3,'P':-2,'S':-1,'T':-1,'W':-3,'Y':-2,'V':-3,'X':0},\n",
    "            'N':{'A':-2,'R': 0,'N': 6,'D': 1,'C':-3,'Q': 0,'E': 0,'G': 0,'H': 1,'I':-3,\n",
    "                 'L':-3,'K': 0,'M':-2,'F':-3,'P':-2,'S': 1,'T': 0,'W':-4,'Y':-2,'V':-3,'X':0},\n",
    "            'D':{'A':-2,'R':-2,'N': 1,'D': 6,'C':-3,'Q': 0,'E': 2,'G':-1,'H':-1,'I':-3,\n",
    "                 'L':-4,'K':-1,'M':-3,'F':-3,'P':-1,'S': 0,'T':-1,'W':-4,'Y':-3,'V':-3,'X':0},\n",
    "            'C':{'A': 0,'R':-3,'N':-3,'D':-3,'C': 9,'Q':-3,'E':-4,'G':-3,'H':-3,'I':-1,\n",
    "                 'L':-1,'K':-3,'M':-1,'F':-2,'P':-3,'S':-1,'T':-1,'W':-2,'Y':-2,'V':-1,'X':0},\n",
    "            'Q':{'A':-1,'R': 1,'N': 0,'D': 0,'C':-3,'Q': 5,'E': 2,'G':-2,'H': 0,'I':-3,\n",
    "                 'L':-2,'K': 1,'M': 0,'F':-3,'P':-1,'S': 0,'T':-1,'W':-2,'Y':-1,'V':-2,'X':0},\n",
    "            'E':{'A':-1,'R': 0,'N': 0,'D': 2,'C':-4,'Q': 2,'E': 5,'G':-2,'H': 0,'I':-3,\n",
    "                 'L':-3,'K': 1,'M':-2,'F':-3,'P':-1,'S': 0,'T':-1,'W':-3,'Y':-2,'V':-2,'X':0},\n",
    "            'G':{'A': 0,'R':-2,'N': 0,'D':-1,'C':-3,'Q':-2,'E':-2,'G': 6,'H':-2,'I':-4,\n",
    "                 'L':-4,'K':-2,'M':-3,'F':-3,'P':-2,'S': 0,'T':-2,'W':-2,'Y':-3,'V':-3,'X':0},\n",
    "            'H':{'A':-2,'R': 0,'N': 1,'D':-1,'C':-3,'Q': 0,'E': 0,'G':-2,'H': 8,'I':-3,\n",
    "                 'L':-3,'K':-1,'M':-2,'F':-1,'P':-2,'S':-1,'T':-2,'W':-2,'Y': 2,'V':-3,'X':0},\n",
    "            'I':{'A':-1,'R':-3,'N':-3,'D':-3,'C':-1,'Q':-3,'E':-3,'G':-4,'H':-3,'I': 4,\n",
    "                 'L': 2,'K':-3,'M': 1,'F': 0,'P':-3,'S':-2,'T':-1,'W':-3,'Y':-1,'V': 3,'X':0},\n",
    "            'L':{'A':-1,'R':-2,'N':-3,'D':-4,'C':-1,'Q':-2,'E':-3,'G':-4,'H':-3,'I': 2,\n",
    "                 'L': 4,'K':-2,'M': 2,'F': 0,'P':-3,'S':-2,'T':-1,'W':-2,'Y':-1,'V': 1,'X':0},\n",
    "            'K':{'A':-1,'R': 2,'N': 0,'D':-1,'C':-3,'Q': 1,'E': 1,'G':-2,'H':-1,'I':-3,\n",
    "                 'L':-2,'K': 5,'M':-1,'F':-3,'P':-1,'S': 0,'T':-1,'W':-3,'Y':-2,'V':-2,'X':0},\n",
    "            'M':{'A':-1,'R':-1,'N':-2,'D':-3,'C':-1,'Q': 0,'E':-2,'G':-3,'H':-2,'I': 1,\n",
    "                 'L': 2,'K':-1,'M': 5,'F': 0,'P':-2,'S':-1,'T':-1,'W':-1,'Y':-1,'V': 1,'X':0},\n",
    "            'F':{'A':-2,'R':-3,'N':-3,'D':-3,'C':-2,'Q':-3,'E':-3,'G':-3,'H':-1,'I': 0,\n",
    "                 'L': 0,'K':-3,'M': 0,'F': 6,'P':-4,'S':-2,'T':-2,'W': 1,'Y': 3,'V':-1,'X':0},\n",
    "            'P':{'A':-1,'R':-2,'N':-2,'D':-1,'C':-3,'Q':-1,'E':-1,'G':-2,'H':-2,'I':-3,\n",
    "                 'L':-3,'K':-1,'M':-2,'F':-4,'P': 7,'S':-1,'T':-1,'W':-4,'Y':-3,'V':-2,'X':0},\n",
    "            'S':{'A': 1,'R':-1,'N': 1,'D': 0,'C':-1,'Q': 0,'E': 0,'G': 0,'H':-1,'I':-2,\n",
    "                 'L':-2,'K': 0,'M':-1,'F':-2,'P':-1,'S': 4,'T': 1,'W':-3,'Y':-2,'V':-2,'X':0},\n",
    "            'T':{'A': 0,'R':-1,'N': 0,'D':-1,'C':-1,'Q':-1,'E':-1,'G':-2,'H':-2,'I':-1,\n",
    "                 'L':-1,'K':-1,'M':-1,'F':-2,'P':-1,'S': 1,'T': 5,'W':-2,'Y':-2,'V': 0,'X':0},\n",
    "            'W':{'A':-3,'R':-3,'N':-4,'D':-4,'C':-2,'Q':-2,'E':-3,'G':-2,'H':-2,'I':-3,\n",
    "                 'L':-2,'K':-3,'M':-1,'F': 1,'P':-4,'S':-3,'T':-2,'W':11,'Y': 2,'V':-3,'X':0},\n",
    "            'Y':{'A':-2,'R':-2,'N':-2,'D':-3,'C':-2,'Q':-1,'E':-2,'G':-3,'H': 2,'I':-1,\n",
    "                 'L':-1,'K':-2,'M':-1,'F': 3,'P':-3,'S':-2,'T':-2,'W': 2,'Y': 7,'V':-1,'X':0},\n",
    "            'V':{'A': 0,'R':-3,'N':-3,'D':-3,'C':-1,'Q':-2,'E':-2,'G':-3,'H':-3,'I': 3,\n",
    "                 'L': 1,'K':-2,'M': 1,'F':-1,'P':-2,'S':-2,'T': 0,'W':-3,'Y':-1,'V': 4,'X':0},\n",
    "            'X':{'A': 0,'R': 0,'N': 0,'D': 0,'C': 0,'Q': 0,'E': 0,'G': 0,'H': 0,'I': 0,\n",
    "                 'L': 0,'K': 0,'M': 0,'F': 0,'P': 0,'S': 0,'T': 0,'W': 0,'Y': 0,'V': 0,'X':0}}"
   ]
  },
  {
   "cell_type": "code",
   "execution_count": null,
   "metadata": {},
   "outputs": [],
   "source": [
    "The following function will now consider a substitution matrix and use it to calculate an overall similarity score. "
   ]
  },
  {
   "cell_type": "code",
   "execution_count": null,
   "metadata": {},
   "outputs": [],
   "source": [
    "def calcSeqSimilarity(seqA, seqB, simMatrix):\n",
    "\n",
    "    numPlaces = min(len(seqA), len(seqB))\n",
    "  \n",
    "    totalScore = 0.0\n",
    "  \n",
    "    for i in range(numPlaces):\n",
    "        residueA = seqA[i]\n",
    "        residueB = seqB[i]\n",
    "  \n",
    "        totalScore += simMatrix[residueA][residueB]\n",
    "\n",
    "    return totalScore"
   ]
  },
  {
   "cell_type": "code",
   "execution_count": null,
   "metadata": {},
   "outputs": [],
   "source": [
    "# Test with pre-defined substitution matrices\n",
    "  # DNA example\n",
    "print(calcSeqSimilarity('AGCATCGCTCT', 'AGCATCGTTTT', DNA_2))"
   ]
  },
  {
   "cell_type": "code",
   "execution_count": null,
   "metadata": {},
   "outputs": [],
   "source": [
    "#Protein example\n",
    "print(calcSeqSimilarity ('ALIGNMENT', 'ALINGEMTN', BLOSUM62))"
   ]
  },
  {
   "cell_type": "markdown",
   "metadata": {},
   "source": [
    "<div class=\"alert alert-success\">\n",
    "**Exercise 9:** Modify the above function to take into account the presence of gaps ('-') in the sequences without modifying the BLOSUM62 substitution matrix. \n",
    "Gaps are generally undesirable but are tolerable if the subsequent alignment matches well.\n",
    "\n",
    "Introduce different gap penalties depending on whether there is an insertion of a new gap or an extension of an existing one. \n",
    "\n",
    "<div>"
   ]
  },
  {
   "cell_type": "code",
   "execution_count": null,
   "metadata": {},
   "outputs": [],
   "source": [
    "#Solution\n",
    "\n"
   ]
  },
  {
   "cell_type": "markdown",
   "metadata": {},
   "source": [
    "## Optimising pairwise alignment"
   ]
  },
  {
   "cell_type": "markdown",
   "metadata": {},
   "source": [
    "We have seen the basic principles of how it is possible to measure the match quality of an aligned pair of sequences. \n",
    "In general, however, one is interested in determining which alignment out of all the possible combinations is the best (highest scoring).\n",
    "Consider the following three examples:"
   ]
  },
  {
   "cell_type": "raw",
   "metadata": {},
   "source": [
    "ALIGNMENTS---           A--LIGN-MENTS        --ALIGN-MENTS  \n",
    "ANALIGDPVENTS           ANALIGDPVENTS        ANALIGDPVENTS"
   ]
  },
  {
   "cell_type": "markdown",
   "metadata": {},
   "source": [
    "The last alignment is the best, with the middle one a close second."
   ]
  },
  {
   "cell_type": "markdown",
   "metadata": {},
   "source": [
    "This problem is cleary more complex. The number of possible combinations grows very rapidly with the length of the sequence. Hence, more clever algorithm have been developed. All of them use the so called *dynamic programming* principle.\n",
    "\n",
    "\n",
    "The idea behind dynamic programming is that a big problem can be broken down into local-sub-problems that occur repeatedly, then the solution to each sub-problem only needs to be calculated once. \n",
    "\n",
    "In terms of sequence alignment the big problem is to find the highest scoring arrangement and the local sub-problems involve smaller sub-alignments.\n",
    "\n",
    "We will not cover this here, but we invite you to refer to Durbin et al. (https://pdfs.semanticscholar.org/2ed5/d6b35f8971fb9d7434a2683922c3bfcc058e.pdf) for in-depth information on sequence alignment algorithms.   "
   ]
  },
  {
   "cell_type": "markdown",
   "metadata": {},
   "source": [
    "BioPython includes a built-in pairwise aligner that implements some of these algorithms: e.g. the Needleman-Wunsch, Smith-Waterman, Gotoh (three-state), and Waterman-Smith-Beyer global and local pairwise alignment algorithms. "
   ]
  },
  {
   "cell_type": "code",
   "execution_count": null,
   "metadata": {},
   "outputs": [],
   "source": [
    "from Bio import Align\n",
    "from Bio.SubsMat.MatrixInfo import blosum62\n",
    "aligner = Align.PairwiseAligner()"
   ]
  },
  {
   "cell_type": "markdown",
   "metadata": {},
   "source": [
    "The PairwiseAligner object aligner  stores the alignment parameters to be used for the pairwise alignments."
   ]
  },
  {
   "cell_type": "code",
   "execution_count": null,
   "metadata": {},
   "outputs": [],
   "source": [
    "seqA = \"ALIGDPPVENTS\"\n",
    "seqB = \"ALIGN--MENTS\"\n",
    "aligner = Align.PairwiseAligner()\n",
    "aligner.substitution_matrix = blosum62\n",
    "aligner.extend_gap_score = -4\n",
    "aligner.open_gap_score = -8\n",
    "score = aligner.score(seqA, seqB)\n",
    "print(score)\n",
    "\n",
    "alignments = aligner.align(seqA, seqB)\n",
    "len(alignments)\n",
    "print(alignments[0].score)\n",
    "\n",
    "print(alignments[0])"
   ]
  },
  {
   "cell_type": "markdown",
   "metadata": {},
   "source": [
    "Depending on the gap scoring parameters and mode, a PairwiseAligner object automatically chooses the appropriate algorithm to use for pairwise sequence alignment. To verify the selected algorithm, use"
   ]
  },
  {
   "cell_type": "code",
   "execution_count": null,
   "metadata": {},
   "outputs": [],
   "source": [
    "aligner.algorithm"
   ]
  },
  {
   "cell_type": "code",
   "execution_count": null,
   "metadata": {},
   "outputs": [],
   "source": [
    "alignments = aligner.align(seqA, seqB)\n",
    "for alignment in alignments:\n",
    "    print(alignment)"
   ]
  },
  {
   "cell_type": "markdown",
   "metadata": {},
   "source": [
    "## BLAST"
   ]
  },
  {
   "cell_type": "markdown",
   "metadata": {},
   "source": [
    "BLAST (Basic Local Alignment Search Tool) is one of the most widely used bioinformatics programs for sequence searching within a library or database of sequences, and to identify library sequences that resemble the query sequence above a certain threshold (e-value).\n",
    "\n",
    "Using a dynamic algorithm for this purpose would be very computational expensive. BLAST use a so called *heuristic* approach ( https://en.wikipedia.org/wiki/BLAST ) and it does **not** perform an optimal alignment. "
   ]
  },
  {
   "cell_type": "markdown",
   "metadata": {},
   "source": [
    "You can use BLAST through BioPython:\n",
    "the function qblast() in the Bio.Blast.NCBIWWW module calls the online version of BLAST. \n",
    "\n",
    "\n",
    "* The first argument is the blast program to use for the search, as a lower case string. The options and descriptions of the programs are available at http://www.ncbi.nlm.nih.gov/BLAST/blast_program.shtml. Currently qblast only works with blastn, blastp, blastx, tblast and tblastx.\n",
    "\n",
    "* The second argument specifies the databases to search against. Again, the options for this are available on the NCBI web pages at http://www.ncbi.nlm.nih.gov/BLAST/blast_databases.shtml.\n",
    "\n",
    "* The third argument is a string containing your query sequence. This can either be the sequence itself, the sequence in fasta format, or an identifier like a GI number.\n",
    "\n"
   ]
  },
  {
   "cell_type": "markdown",
   "metadata": {},
   "source": [
    "The qblast function also take a number of other option arguments which are basically analogous to the different parameters you can set on the BLAST web page.\n",
    "\n",
    "* The argument url_base sets the base URL for running BLAST over the internet. By default it connects to the NCBI.\n",
    "\n",
    "* The qblast function can return the BLAST results in various formats, which you can choose with the optional format_type keyword: \"HTML\", \"Text\", \"ASN.1\", or \"XML\". The default is \"XML\", as that is the format expected by the parser\n",
    "\n",
    "* The argument expect sets the expectation or e-value threshold.\n"
   ]
  },
  {
   "cell_type": "code",
   "execution_count": null,
   "metadata": {},
   "outputs": [],
   "source": [
    "from Bio.Blast import NCBIWWW\n",
    "result_handle = NCBIWWW.qblast(\"blastn\", \"nt\", \"8332126\")"
   ]
  },
  {
   "cell_type": "code",
   "execution_count": null,
   "metadata": {},
   "outputs": [],
   "source": [
    "from Bio.Blast import NCBIXML\n",
    "blast_records = NCBIXML.parse(result_handle)\n"
   ]
  },
  {
   "cell_type": "code",
   "execution_count": null,
   "metadata": {},
   "outputs": [],
   "source": [
    "E_VALUE_THRESH = 0.04\n",
    "\n",
    "\n",
    "for alignment in blast_record.alignments:\n",
    "    for hsp in alignment.hsps:  # HSP (high-scoring pair) \n",
    "        if hsp.expect < E_VALUE_THRESH:\n",
    "            print(\"****Alignment****\")\n",
    "            print(\"sequence:\", alignment.title)\n",
    "            print(\"length:\", alignment.length)\n",
    "            print(\"e value:\", hsp.expect)\n",
    "            print(hsp.query[0:75] + \"...\")\n",
    "            print(hsp.match[0:75] + \"...\")\n",
    "            print(hsp.sbjct[0:75] + \"...\")"
   ]
  },
  {
   "cell_type": "markdown",
   "metadata": {},
   "source": [
    "# PHYLOGENETIC THREE"
   ]
  },
  {
   "cell_type": "markdown",
   "metadata": {
    "collapsed": true
   },
   "source": [
    "The Bio.Phylo aims to provide a common way to work with phylogenetic trees independently of the source data format.\n",
    "\n",
    "Bio.Phylo is described in an open-access journal article(https://bmcbioinformatics.biomedcentral.com/articles/10.1186/1471-2105-13-209), which you might also find helpful.\n"
   ]
  },
  {
   "cell_type": "code",
   "execution_count": null,
   "metadata": {},
   "outputs": [],
   "source": [
    "from Bio import AlignIO\n",
    "\n",
    "alignment = AlignIO.read(\"PF08792_seed.sth\", \"stockholm\")"
   ]
  },
  {
   "cell_type": "code",
   "execution_count": null,
   "metadata": {},
   "outputs": [],
   "source": [
    "from Bio.Phylo.TreeConstruction import DistanceCalculator\n",
    "\n",
    "#calculate the distance matrix\n",
    "calculator = DistanceCalculator('identity')\n",
    "#adds distance matrix to the calculator object and returns it\n",
    "dm = calculator.get_distance(alignment)\n",
    "print(dm)"
   ]
  },
  {
   "cell_type": "markdown",
   "metadata": {},
   "source": [
    "and finally, we can construct a phylogenetic tree from the pairwise distances between all the sequences."
   ]
  },
  {
   "cell_type": "code",
   "execution_count": null,
   "metadata": {},
   "outputs": [],
   "source": [
    "from Bio.Phylo.TreeConstruction import DistanceTreeConstructor\n",
    "\n",
    "#initialize a DistanceTreeConstructor object based on our distance calculator object\n",
    "constructor = DistanceTreeConstructor(calculator)\n",
    "\n",
    "#build the tree\n",
    "upgma_tree = constructor.build_tree(alignment)"
   ]
  },
  {
   "cell_type": "code",
   "execution_count": null,
   "metadata": {},
   "outputs": [],
   "source": [
    "print(upgma_tree)"
   ]
  },
  {
   "cell_type": "markdown",
   "metadata": {},
   "source": [
    "And let's use the Phylo module to visualize the result!"
   ]
  },
  {
   "cell_type": "code",
   "execution_count": null,
   "metadata": {},
   "outputs": [],
   "source": [
    "%matplotlib inline\n",
    "from Bio import Phylo\n",
    "import matplotlib.pyplot\n",
    "#draw the tree\n",
    "Phylo.draw(upgma_tree)"
   ]
  },
  {
   "cell_type": "markdown",
   "metadata": {
    "collapsed": true
   },
   "source": [
    "The function draw support the display of different colors and branch widths in a tree"
   ]
  },
  {
   "cell_type": "code",
   "execution_count": null,
   "metadata": {},
   "outputs": [],
   "source": [
    "tree = upgma_tree.as_phyloxml()"
   ]
  },
  {
   "cell_type": "code",
   "execution_count": null,
   "metadata": {},
   "outputs": [],
   "source": [
    "tree.root.color = (128, 128, 128)"
   ]
  },
  {
   "cell_type": "markdown",
   "metadata": {},
   "source": [
    "Colors for a clade are treated as cascading down through the entire clade, so when we colorize the root here, it turns the whole tree gray. We can override that by assigning a different color lower down on the tree.\n",
    "\n"
   ]
  },
  {
   "cell_type": "code",
   "execution_count": null,
   "metadata": {},
   "outputs": [],
   "source": [
    "mrca = tree.common_ancestor({\"name\": \"Inner10\"})\n",
    "mrca.color = \"salmon\"\n"
   ]
  },
  {
   "cell_type": "markdown",
   "metadata": {},
   "source": [
    "Color a clade (branch):"
   ]
  },
  {
   "cell_type": "code",
   "execution_count": null,
   "metadata": {},
   "outputs": [],
   "source": [
    "tree.clade[0, 1].color = \"blue\""
   ]
  },
  {
   "cell_type": "code",
   "execution_count": null,
   "metadata": {},
   "outputs": [],
   "source": [
    "Phylo.draw(tree)"
   ]
  },
  {
   "cell_type": "code",
   "execution_count": null,
   "metadata": {},
   "outputs": [],
   "source": []
  }
 ],
 "metadata": {
  "anaconda-cloud": {},
  "kernelspec": {
   "display_name": "Python 3",
   "language": "python",
   "name": "python3"
  },
  "language_info": {
   "codemirror_mode": {
    "name": "ipython",
    "version": 3
   },
   "file_extension": ".py",
   "mimetype": "text/x-python",
   "name": "python",
   "nbconvert_exporter": "python",
   "pygments_lexer": "ipython3",
   "version": "3.7.3"
  }
 },
 "nbformat": 4,
 "nbformat_minor": 2
}
